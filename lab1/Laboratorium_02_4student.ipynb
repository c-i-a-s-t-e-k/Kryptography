{
  "cells": [
    {
      "cell_type": "markdown",
      "metadata": {},
      "source": []
    },
    {
      "cell_type": "markdown",
      "metadata": {
        "id": "a_hG5L7X10w_"
      },
      "source": [
        "# Kryptografia z kluczem tajnym (symetryczna): szyfry strumieniowe\n",
        "### Literatura:\n",
        "1. Nowoczesna kryptografia, Aumasson\n",
        "2. Kryptografia dla praktyków, Schneier"
      ]
    },
    {
      "cell_type": "markdown",
      "metadata": {
        "id": "FGxETr0L10xC"
      },
      "source": [
        "### Historia szyfrów strumieniowych\n",
        "1. Zapoznaj się z działaniem szyfrem Vernama\n",
        "2. Szyfr Vernama jako szyfr doskonały\n",
        "![machine-vernam.jpg](attachment:machine-vernam.jpg)"
      ]
    },
    {
      "cell_type": "markdown",
      "metadata": {
        "id": "C1Ca4cZj10xD"
      },
      "source": [
        "#### Funkcje pomocnicze\n",
        "Zadaniem poniższego zestawu funkcji jest zamiana wiadomości tekstowej (poprzez kody ASCII) do (tekstowego) ciągu 0 i 1. Chcemy analizować funkcje tak jak są one opisane w książkach.\n"
      ]
    },
    {
      "cell_type": "code",
      "execution_count": 14,
      "metadata": {
        "id": "IgHBVT2T10xE"
      },
      "outputs": [
        {
          "name": "stdout",
          "output_type": "stream",
          "text": [
            "Liczba 200 w zapisie binarnym na 8 bitach: 11001000\n",
            "Liczba 200 w zapisie binarnym na 16 bitach: 0000000011001000\n",
            "Tekst w formie kodów ASCII:  [84, 104, 101, 32, 113, 117, 105, 99, 107, 32, 98, 114, 111, 119, 110, 32, 102, 111, 120, 32, 106, 117, 109, 112, 115, 32, 111, 118, 101, 114, 32, 116, 104, 101, 32, 108, 97, 122, 121, 32, 100, 111, 103]\n",
            "Tekst w formie porcji bitów: ['01010100', '01101000', '01100101', '00100000', '01110001', '01110101', '01101001', '01100011', '01101011', '00100000', '01100010', '01110010', '01101111', '01110111', '01101110', '00100000', '01100110', '01101111', '01111000', '00100000', '01101010', '01110101', '01101101', '01110000', '01110011', '00100000', '01101111', '01110110', '01100101', '01110010', '00100000', '01110100', '01101000', '01100101', '00100000', '01101100', '01100001', '01111010', '01111001', '00100000', '01100100', '01101111', '01100111']\n",
            "Tekst w postaci ciągu 0 i 1: 01010100011010000110010100100000011100010111010101101001011000110110101100100000011000100111001001101111011101110110111000100000011001100110111101111000001000000110101001110101011011010111000001110011001000000110111101110110011001010111001000100000011101000110100001100101001000000110110001100001011110100111100100100000011001000110111101100111\n",
            "\n",
            "AND 0101010001100\n",
            "OR 0101010001101\n",
            "XOR 0000000000001\n",
            "NEG 1010101110010\n"
          ]
        }
      ],
      "source": [
        "# Funkcje pomocnicze\n",
        "from textwrap import wrap\n",
        "import math\n",
        "from codecs import encode\n",
        "\n",
        "#tablica znaków w tablicę kodów int\n",
        "def intoASCIIArray(message: str):\n",
        "    int_array = []\n",
        "    mesg_array = list(message)\n",
        "    for i in mesg_array:\n",
        "        int_array.append(ord(i))\n",
        "    return int_array\n",
        "\n",
        "#tablica kodów int w tablice znaków\n",
        "def intoCharArray(message: []):\n",
        "    mesg_char = []\n",
        "    for i in message:\n",
        "        mesg_char.append(chr(i))\n",
        "    return mesg_char\n",
        "\n",
        "# jak wyświetlić dane w postaci binarnej na n bitach\n",
        "get_bin = lambda x, n: format(x, 'b').zfill(n)\n",
        "\n",
        "#tekst ascii w postaci tablicy 8-bitowych porcji\n",
        "def ASCIIToBinChunks(message_list):\n",
        "    binary = []\n",
        "    for x in message_list:\n",
        "        binary.append(get_bin(x, 8))\n",
        "    return binary\n",
        "\n",
        "#tekst ascii w formie strumienia bitów\n",
        "def ASCIIToBinStream(binary: []):\n",
        "    binary_str = \"\"\n",
        "    for x in binary:\n",
        "        binary_str+=x\n",
        "    return binary_str\n",
        "\n",
        "\n",
        "# Przykłady\n",
        "\n",
        "# Liczba 200 w zapisie binarnym\n",
        "l = 200\n",
        "bl = get_bin(l,8)\n",
        "print(\"Liczba 200 w zapisie binarnym na 8 bitach:\", bl)\n",
        "bl = get_bin(l,16)\n",
        "print(\"Liczba 200 w zapisie binarnym na 16 bitach:\", bl)\n",
        "\n",
        "\n",
        "messageTxt = 'The quick brown fox jumps over the lazy dog'\n",
        "messageASCII = intoASCIIArray(messageTxt)\n",
        "print(\"Tekst w formie kodów ASCII: \",messageASCII)\n",
        "messageASCIIBinChunks = ASCIIToBinChunks(messageASCII)\n",
        "print(\"Tekst w formie porcji bitów:\", messageASCIIBinChunks)\n",
        "messageASCIIBinStream = ASCIIToBinStream(messageASCIIBinChunks)\n",
        "print(\"Tekst w postaci ciągu 0 i 1:\", messageASCIIBinStream)\n",
        "print()\n",
        "\n",
        "\n",
        "#Operatory logiczne działające na napisach bitów\n",
        "def XOR(bits1,bits2):\n",
        "    \"\"\"perform a XOR operation and return the output\"\"\"\n",
        "    xor_result = \"\"\n",
        "    for index in range(len(bits1)):\n",
        "        if bits1[index] == bits2[index]:\n",
        "            xor_result += '0'\n",
        "        else:\n",
        "            xor_result += '1'\n",
        "    return xor_result\n",
        "\n",
        "def AND(bits1,bits2):\n",
        "    \"\"\"perform a AND operation and return the output\"\"\"\n",
        "    and_result = \"\"\n",
        "    for index in range(len(bits1)):\n",
        "        if (bits1[index] == '1') and  (bits2[index] == '1'):\n",
        "            and_result += '1'\n",
        "        else:\n",
        "            and_result += '0'\n",
        "    return and_result\n",
        "\n",
        "def OR(bits1,bits2):\n",
        "    \"\"\"perform a OR operation and return the output\"\"\"\n",
        "    or_result = \"\"\n",
        "    for index in range(len(bits1)):\n",
        "        if (bits1[index] == '0') and  (bits2[index] == '0'):\n",
        "            or_result += '0'\n",
        "        else:\n",
        "            or_result += '1'\n",
        "    return or_result\n",
        "\n",
        "def NEG(bits):\n",
        "    \"\"\"perform a NEG operation and return the output\"\"\"\n",
        "    neg_result = \"\"\n",
        "    for index in range(len(bits)):\n",
        "        if (bits[index] == '0'):\n",
        "            neg_result += '1'\n",
        "        else:\n",
        "            neg_result += '0'\n",
        "    return neg_result\n",
        "\n",
        "print(\"AND\", AND('0101010001101', '0101010001100'))\n",
        "print(\"OR\", OR('0101010001101', '0101010001100'))\n",
        "print(\"XOR\", XOR('0101010001101', '0101010001100'))\n",
        "print(\"NEG\", NEG('0101010001101'))"
      ]
    },
    {
      "cell_type": "code",
      "execution_count": 15,
      "metadata": {
        "id": "F5YMsYYe10xG"
      },
      "outputs": [
        {
          "name": "stdout",
          "output_type": "stream",
          "text": [
            "Losowe bajty: ['10001110', '11111000', '11000111', '11110101', '11101100', '01010100', '00111110', '10011110']\n",
            "Strumień bitów: 1000111011111000110001111111010111101100010101000011111010011110\n",
            "Pojedyncze losowe bajty:10000110 00000010\n"
          ]
        }
      ],
      "source": [
        "# Generowanie losowych danych: funkcje i algorytmy pomocnicze\n",
        "import random\n",
        "random.seed(\"key\")  #generator PRNG w python można inicjalizować tekstem\n",
        "\n",
        "# jak wygenerować 8 losowych bitów (razy n)\n",
        "def randomBytes(n):\n",
        "    return bytes(random.getrandbits(8) for i in range(n))\n",
        "\n",
        "def randomByte():\n",
        "    return random.randint(0,255)\n",
        "\n",
        "def randomByteBin():\n",
        "    return get_bin(random.randint(0,255),8)\n",
        "\n",
        "#jak wygenerować ciąg losowych bajtów\n",
        "random_stream_chunks = []\n",
        "for i in range(8):\n",
        "    random_stream_chunks.append(randomByteBin())\n",
        "\n",
        "print(\"Losowe bajty:\", random_stream_chunks)\n",
        "\n",
        "randomBinaryString = \"\"\n",
        "for i in random_stream_chunks:\n",
        "    randomBinaryString+=i\n",
        "\n",
        "print(\"Strumień bitów:\", randomBinaryString)\n",
        "\n",
        "print(\"Pojedyncze losowe bajty:\", end=\"\")\n",
        "bits1 = randomByteBin()\n",
        "bits2 = get_bin(randomByte(),8)\n",
        "print(bits1, bits2)"
      ]
    },
    {
      "cell_type": "markdown",
      "metadata": {
        "id": "xcPnx2Ns10xH"
      },
      "source": [
        "### Zadanie samodzielne dla studentów\n",
        "Zaimplementuj szyfr, który utajnia strumień wiadomości jawnej przez łączenie go z pseudolosowym strumieniem\n"
      ]
    },
    {
      "cell_type": "code",
      "execution_count": 25,
      "metadata": {
        "id": "N1vwCmmL10xH",
        "scrolled": false
      },
      "outputs": [
        {
          "name": "stdout",
          "output_type": "stream",
          "text": [
            "Writing 's' (str) to file 'plaintext.txt'.\n",
            "['11000010', '10010111', '10110101', '10010000', '10000001', '01110100', '01010111', '11101110', '11110101', '01110111', '10111111', '11111101', '00110100', '00100100', '10001111', '01100110', '11101011', '10001100', '11010010', '11100101', '11010011', '11000111', '00000111', '00100100', '11111100', '00000110', '01101001', '01001101', '00010111', '11110011', '00010010', '01001001', '10111011', '00001000', '00101000', '01101100', '10101111', '00011111', '10101110', '01001010', '11111000', '11010011', '01101010', '11111100', '01001101', '11000011', '10101111', '10000111', '11100011', '00011100', '11011011', '01001100', '11111111', '00110001', '10111011', '01010010', '10100011', '01110101', '01010001', '11111001', '01000101', '10110011', '10101101', '10101010', '10010101', '01110000', '00000001', '00011010', '00000110', '00000110', '00001100', '10010100', '00111101', '00110010', '10101100', '01010010', '00110010', '00101010', '10010101', '01101101', '01100100', '11101101', '10000101', '00110010', '00000110', '01101011', '00011011', '01010100', '10101100', '00100000', '00010101', '01100111', '01110111', '10110011', '01000101', '11011010', '00010011', '10111011', '01110101', '00000101', '00110111', '00101101', '00111111', '00110011', '00101100', '10110000', '11001101', '00010010', '00110010', '00111100', '11010101', '10010100', '01100011', '01010010', '00110110', '10101001', '10101000', '00111000', '10001111', '01001010', '00101011', '01010101', '01010101', '11001000', '00010000', '11000110', '11010011', '10000000', '00011100', '11010100', '11111000', '00001001']\n"
          ]
        }
      ],
      "source": [
        "s='''Lorem ipsum dolor sit amet, consectetur adipiscing elit. Nunc eget augue eget sem sodales ultrices. Quisque dapibus, urna sit amet.'''\n",
        "%store s >plaintext.txt\n",
        "h = open(\"plaintext.txt\", \"r\")\n",
        "\n",
        "\n",
        "random.seed(\"key\") #przykład\n",
        "\n",
        "ciphertext = []\n",
        "\n",
        "char = h.read(1)\n",
        "while char:\n",
        "    information = ASCIIToBinStream(ASCIIToBinChunks(intoASCIIArray(char)))\n",
        "    random_key = ASCIIToBinStream(ASCIIToBinChunks([randomByte() for _ in range(len(char))]))\n",
        "    ciphertext.append(XOR(information, random_key))\n",
        "    char = h.read(1)\n",
        "\n",
        "h.close()\n",
        "\n",
        "# tu wpisz swoj kod\n",
        "\n",
        "\n",
        "print(ciphertext)"
      ]
    },
    {
      "cell_type": "markdown",
      "metadata": {
        "id": "N88eXBA410xI"
      },
      "source": [
        "### Zastanów się\n",
        "1. W jaki sposób łączymy strumień tekstu jawnego i strumień klucza? Wady i zalety różnych metod."
      ]
    },
    {
      "cell_type": "markdown",
      "metadata": {
        "id": "ywL4U8eW10xI"
      },
      "source": [
        "### Linear congruential generators (LCG)\n",
        "Generatory liniowe kongruentne sa najprostszymi generatorami dającymi ciągi liczb o dobrych własnościach statystycznych. Kolejne wyrazy ciągu generowane sa przy pomocy formuły:\n",
        "\n",
        "$z_{i+1}=(a\\cdot z_i+c)\\bmod m$\n",
        "\n",
        "Wyraz $z_0$ nazywany jest ziarnem (_seed_). Użycie tego samego ziarna gwarantuje nam wyprodukowanie tej samej sekwencji liczb.\n",
        "\n",
        "Charakterystyczną cechą GLK jest ich okresowość. Oczekujemy możliwie najdłuższego okresu (maksymalny to $m-1$). Najdłuższy okres otrzymamy gdy spełnione są pewne warunki (twierdzenie Hull'a-Dobell'a):\n",
        "\n",
        "- $c$ i $m$ są względnie pierwsze,\n",
        "- $a-1$ jest podzielne przez wszystkiem pierwsze czynniki $m$,\n",
        "- $a-1$ jest wielokrotnoścą 4 jeśli $m$ jest wielokrotnością 4.\n",
        "\n",
        "Przykładowe dobre wartości to $a=1103515245$, $c=12345$ dla $m=2^{31}$\n",
        "\n",
        "Zazwyczaj generator zwraca wartość $\\frac{z_i}{m}$, ale wyjście można przeskalować do dowolnej innej wartości.\n",
        "\n",
        "Obecnie większość PRNG to tzw. _Mersenne twister_, ale ogólna idea ich użytkowania i własności jest taka sama jak w przypadku generatorów kongruentnych."
      ]
    },
    {
      "cell_type": "code",
      "execution_count": 26,
      "metadata": {
        "id": "imL1p8nL10xJ"
      },
      "outputs": [
        {
          "name": "stdout",
          "output_type": "stream",
          "text": [
            "[166, 97, 88, 33, 91, 184, 211, 119, 189, 205, 46, 8, 82, 18, 98, 253, 139, 27, 203, 49, 203, 44, 215, 76, 5, 204, 67, 84, 70, 232, 23, 190, 31, 114, 226, 213, 33, 239, 96, 162, 104, 13, 14, 12, 112, 126, 219, 108, 23, 86, 124, 87, 47, 36, 130, 187, 97, 233, 206, 39, 210, 88, 112, 86, 72, 72, 144, 215, 63, 238, 132, 236, 182, 191, 142, 108, 23, 115, 119, 207, 4, 53, 145, 53, 114, 93, 60, 125, 219, 199, 126, 74, 236, 39, 212, 15, 121, 91, 202, 235]\n"
          ]
        }
      ],
      "source": [
        "def lcg(x, a, c, m):\n",
        "    while True:\n",
        "        x = (a * x + c) % m\n",
        "        yield x\n",
        "\n",
        "def random_uniform_sample(n, interval, seed=0):\n",
        "    a, c, m = 1103515245, 12345, 2 ** 31\n",
        "    bsdrand = lcg(seed, a, c, m)\n",
        "\n",
        "    lower, upper = interval[0], interval[1]\n",
        "    sample = []\n",
        "\n",
        "    for i in range(n):\n",
        "        observation = (upper - lower) * (next(bsdrand) / (2 ** 31 - 1)) + lower\n",
        "        sample.append(round(observation))\n",
        "\n",
        "    return sample\n",
        "\n",
        "print(random_uniform_sample(100, [0,255],11))"
      ]
    },
    {
      "cell_type": "markdown",
      "metadata": {
        "id": "XmGq22do10xJ"
      },
      "source": [
        "### Zastanów sie\n",
        "1. Dlaczego stosowanie generatorów PRNG jako źródłą strumienia klucza to zły pomysł?"
      ]
    },
    {
      "cell_type": "markdown",
      "metadata": {
        "id": "QdOaEkLB10xJ"
      },
      "source": [
        "### Kryptograficzne generatory PRNG\n",
        "Urządzenie /dev/urandom stanowi podstawę dobrego generatora CPRNG"
      ]
    },
    {
      "cell_type": "code",
      "execution_count": 27,
      "metadata": {
        "id": "RRMrnfIl10xK"
      },
      "outputs": [
        {
          "name": "stdout",
          "output_type": "stream",
          "text": [
            "(1563073871,)\n",
            "(892717872,)\n",
            "33\n",
            "(21594,)\n",
            "(26215,)\n",
            "(-8.432588947471231e-05,)\n",
            "(2.8934250445569887e+235,)\n",
            "(b'\\xb6',)\n"
          ]
        }
      ],
      "source": [
        "import os\n",
        "import struct\n",
        "\n",
        "# random integer using os.urandom()\n",
        "print(struct.unpack('i', os.urandom(4)))\n",
        "# Output (258871565,)\n",
        "\n",
        "# unsigned random integer using os.urandom()\n",
        "print(struct.unpack('I', os.urandom(4)))\n",
        "print(struct.unpack('I', os.urandom(4))[0] % 100)\n",
        "# Output (1015967885,)\n",
        "\n",
        "# random short number using os.urandom()\n",
        "print(struct.unpack('h', os.urandom(2)))\n",
        "# Output (-28882,)\n",
        "\n",
        "# unsigned random short using os.urandom()\n",
        "print(struct.unpack('H', os.urandom(2)))\n",
        "# Output (29492,)\n",
        "\n",
        "# Print random float using os.urandom()\n",
        "print(struct.unpack('f', os.urandom(4)))\n",
        "# Output (-4.651611836498911e+20,)\n",
        "\n",
        "# un-singed random decimal using os.urandom()\n",
        "print(struct.unpack('d', os.urandom(8)))\n",
        "# Output (-1.7024488468332834e-120,)\n",
        "\n",
        "# random char using os.urandom()\n",
        "print(struct.unpack('c', os.urandom(1)))\n",
        "# Output (b'\\xce',)"
      ]
    },
    {
      "cell_type": "markdown",
      "metadata": {
        "id": "2Ug07Pov10xK"
      },
      "source": [
        "### Zastanów się:\n",
        "1. Poszukaj informacji o szyfrach binarnie addytywnych\n",
        "2. Poszukaj informacji o szyfrach strumieniowych używanych w praktyce. Gdzie takie szyfry mogą być obecnie stosowane?"
      ]
    },
    {
      "cell_type": "markdown",
      "metadata": {
        "id": "hBcTONVL10xL"
      },
      "source": [
        "### Problem\n",
        "Utwórz dwie różne wiadomości równej długości. Zaszyfruj je szyfrem XOR z użyciem tego samego klucza. Wyznacz alternatywę rozłączną szyfrogramów (XOR) i porównaj ją z tą samą operacją wykonaną dla tekstów jawnych.  "
      ]
    },
    {
      "cell_type": "code",
      "execution_count": 34,
      "metadata": {
        "id": "k6I5hi6O10xL"
      },
      "outputs": [
        {
          "name": "stdout",
          "output_type": "stream",
          "text": [
            "zaszyfrowana wiadomość 1: 001110011011111110110011011000110001110101101011\n",
            "zaszyfrowana wiadomość 2: 001110101011010110100101011101110001011001100110\n",
            "\n",
            "XOR szyfrogramów:\t 000000110000101000010110000101000000101100001101\n",
            "XOR tekstów jawnych:\t 000000110000101000010110000101000000101100001101\n"
          ]
        }
      ],
      "source": [
        "message1 = 'secret'\n",
        "message2 = 'poufny'\n",
        "\n",
        "def intoBinStr(message: str):\n",
        "    return ASCIIToBinStream(ASCIIToBinChunks(intoASCIIArray(message)))\n",
        "\n",
        "random_key = ASCIIToBinStream(ASCIIToBinChunks([randomByte() for _ in range(len(message1))]))\n",
        "\n",
        "message1Bin = intoBinStr(message1)\n",
        "message2Bin = intoBinStr(message2)\n",
        "\n",
        "ciphertext1 = XOR(message1Bin, random_key)\n",
        "ciphertext2 = XOR(message2Bin, random_key)\n",
        "\n",
        "print(\"zaszyfrowana wiadomość 1:\", ciphertext1)\n",
        "print(\"zaszyfrowana wiadomość 2:\", ciphertext2)\n",
        "print()\n",
        "print(\"XOR szyfrogramów:\\t\", XOR(ciphertext1, ciphertext2))\n",
        "print(\"XOR tekstów jawnych:\\t\", XOR(message1Bin, message2Bin))"
      ]
    },
    {
      "cell_type": "markdown",
      "metadata": {
        "id": "AL8EwkZl10xL"
      },
      "source": [
        "### Bezpieczeństwo szyfru XOR\n",
        "1. Jakie znaczenie ma powyższy wynik z punktu widzenia kryptoanalizy?\n",
        "2. Jeśli OTP to OK.\n",
        "3. Na czym polega atak ze znanym tekstem jawnym?"
      ]
    },
    {
      "cell_type": "markdown",
      "metadata": {
        "id": "wfEYrxav10xM"
      },
      "source": [
        "### Problem\n",
        "\n",
        "1. Utwórz dowolną wiadomość $M_1$.\n",
        "2. Zaszyfruj ją swoim szyfrem XOR z kluczem $K$.\n",
        "3. Wykonaj na szyfrogramie $C_1$ operację $C_2 = C_1 \\oplus (111\\ldots1)$.\n",
        "4. Odszyfruj wiadomość $C_2$ stosując ten sam klucz $K$.\n",
        "5. Porównaj wiadomości: $M_1$ i odszyfrowaną w poprzednim kroku $M_2$ (najlepiej binarnie).  "
      ]
    },
    {
      "cell_type": "code",
      "execution_count": 38,
      "metadata": {
        "id": "rk2yIkJv10xM"
      },
      "outputs": [
        {
          "name": "stdout",
          "output_type": "stream",
          "text": [
            "wiadomość:\t\t\t 011101110110100101100001011001000110111101101101011011110111001101100011\n",
            "odszyfrowany szyfrogram c1:\t 011101110110100101100001011001000110111101101101011011110111001101100011\n",
            "odszyfrowany szyfrogram c2:\t 100010001001011010011110100110111001000010010010100100001000110010011100\n"
          ]
        }
      ],
      "source": [
        "message = \"wiadomosc\"\n",
        "\n",
        "messageBin = intoBinStr(message)\n",
        "random_key = ASCIIToBinStream(ASCIIToBinChunks([randomByte() for _ in range(len(message))]))\n",
        "\n",
        "ciphertext1 = XOR(messageBin, random_key)\n",
        "\n",
        "ciphertext2 = XOR(ciphertext1, \"1\"*len(ciphertext1))\n",
        "\n",
        "print(\"wiadomość:\\t\\t\\t\", messageBin)\n",
        "print(\"odszyfrowany szyfrogram c1:\\t\", XOR(ciphertext1, random_key))\n",
        "print(\"odszyfrowany szyfrogram c2:\\t\", XOR(ciphertext2, random_key))"
      ]
    }
  ],
  "metadata": {
    "colab": {
      "provenance": []
    },
    "kernelspec": {
      "display_name": "Python 3 (ipykernel)",
      "language": "python",
      "name": "python3"
    },
    "language_info": {
      "codemirror_mode": {
        "name": "ipython",
        "version": 3
      },
      "file_extension": ".py",
      "mimetype": "text/x-python",
      "name": "python",
      "nbconvert_exporter": "python",
      "pygments_lexer": "ipython3",
      "version": "3.11.6"
    }
  },
  "nbformat": 4,
  "nbformat_minor": 0
}
