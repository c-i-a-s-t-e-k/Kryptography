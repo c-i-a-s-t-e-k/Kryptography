{
 "cells": [
  {
   "cell_type": "markdown",
   "metadata": {},
   "source": [
    "\n",
    "# Integer FHE with BFV scheme\n",
    "\n",
    "Integer FHE Demo for Pyfhel, covering all the posibilities offered by Pyfhel\n",
    "regarding the BFV scheme (see https://eprint.iacr.org/2012/144.pdf).\n"
   ]
  },
  {
   "cell_type": "code",
   "execution_count": 1,
   "metadata": {},
   "outputs": [
    {
     "ename": "ModuleNotFoundError",
     "evalue": "No module named 'Pyfhel.Pyfhel.Pyfhel'",
     "output_type": "error",
     "traceback": [
      "\u001b[0;31m---------------------------------------------------------------------------\u001b[0m",
      "\u001b[0;31mModuleNotFoundError\u001b[0m                       Traceback (most recent call last)",
      "\u001b[0;32m/tmp/ipykernel_86168/2162672990.py\u001b[0m in \u001b[0;36m<module>\u001b[0;34m\u001b[0m\n\u001b[1;32m      1\u001b[0m \u001b[0;32mimport\u001b[0m \u001b[0mnumpy\u001b[0m \u001b[0;32mas\u001b[0m \u001b[0mnp\u001b[0m\u001b[0;34m\u001b[0m\u001b[0;34m\u001b[0m\u001b[0m\n\u001b[0;32m----> 2\u001b[0;31m \u001b[0;32mfrom\u001b[0m \u001b[0mPyfhel\u001b[0m \u001b[0;32mimport\u001b[0m \u001b[0mPyfhel\u001b[0m\u001b[0;34m\u001b[0m\u001b[0;34m\u001b[0m\u001b[0m\n\u001b[0m",
      "\u001b[0;32m~/works/teaching/semestr-zimowy-2023/kryptografia-INF/laboratorium/lab 6/pyfhel-demo/Pyfhel/Pyfhel/__init__.py\u001b[0m in \u001b[0;36m<module>\u001b[0;34m\u001b[0m\n\u001b[0;32m----> 1\u001b[0;31m \u001b[0;32mfrom\u001b[0m \u001b[0;34m.\u001b[0m\u001b[0mPyfhel\u001b[0m \u001b[0;32mimport\u001b[0m \u001b[0mPyfhel\u001b[0m\u001b[0;34m\u001b[0m\u001b[0;34m\u001b[0m\u001b[0m\n\u001b[0m\u001b[1;32m      2\u001b[0m \u001b[0;32mfrom\u001b[0m \u001b[0;34m.\u001b[0m\u001b[0mPyCtxt\u001b[0m \u001b[0;32mimport\u001b[0m \u001b[0mPyCtxt\u001b[0m\u001b[0;34m\u001b[0m\u001b[0;34m\u001b[0m\u001b[0m\n\u001b[1;32m      3\u001b[0m \u001b[0;32mfrom\u001b[0m \u001b[0;34m.\u001b[0m\u001b[0mPyPtxt\u001b[0m \u001b[0;32mimport\u001b[0m \u001b[0mPyPtxt\u001b[0m\u001b[0;34m\u001b[0m\u001b[0;34m\u001b[0m\u001b[0m\n\u001b[1;32m      4\u001b[0m \u001b[0;32mfrom\u001b[0m \u001b[0;34m.\u001b[0m\u001b[0mPyPoly\u001b[0m \u001b[0;32mimport\u001b[0m \u001b[0mPyPoly\u001b[0m\u001b[0;34m\u001b[0m\u001b[0;34m\u001b[0m\u001b[0m\n\u001b[1;32m      5\u001b[0m \u001b[0;34m\u001b[0m\u001b[0m\n",
      "\u001b[0;31mModuleNotFoundError\u001b[0m: No module named 'Pyfhel.Pyfhel.Pyfhel'"
     ]
    }
   ],
   "source": [
    "import numpy as np\n",
    "from Pyfhel import Pyfhel"
   ]
  },
  {
   "cell_type": "markdown",
   "metadata": {},
   "source": [
    "## 1. BFV context and key setup\n",
    "We take a look at the different parameters that can be set for the BFV scheme.\n",
    "Ideally, one should use as little `n` and `t` as possible while keeping the\n",
    "correctness in the operations.\n",
    "The noise budget in a freshly encrypted ciphertext is\n",
    "\n",
    "    ~ log2(coeff_modulus/plain_modulus) (bits)\n",
    "\n",
    "By far the most demanding operation is the homomorphic (ciphertext-ciphertext)\n",
    "multiplication, consuming a noise budget of around:\n",
    "\n",
    "    log2(plain_modulus) + (other terms).\n",
    "\n"
   ]
  },
  {
   "cell_type": "code",
   "execution_count": 2,
   "metadata": {},
   "outputs": [
    {
     "name": "stdout",
     "output_type": "stream",
     "text": [
      "\n",
      "1. Pyfhel FHE context generation\n",
      "\t<bfv Pyfhel obj at 0x7f50461b64c0, [pk:Y, sk:Y, rtk:Y, rlk:Y, contx(n=8192, t=1032193, sec=128, qi=[], scale=1.0, )]>\n"
     ]
    }
   ],
   "source": [
    "HE = Pyfhel()           # Creating empty Pyfhel object\n",
    "bfv_params = {\n",
    "    'scheme': 'BFV',    # can also be 'bfv'\n",
    "    'n': 2**13,         # Polynomial modulus degree, the num. of slots per plaintext,\n",
    "                        #  of elements to be encoded in a single ciphertext in a\n",
    "                        #  2 by n/2 rectangular matrix (mind this shape for rotations!)\n",
    "                        #  Typ. 2^D for D in [10, 16]\n",
    "    't': 65537,         # Plaintext modulus. Encrypted operations happen modulo t\n",
    "                        #  Must be prime such that t-1 be divisible by 2^N.\n",
    "    't_bits': 20,       # Number of bits in t. Used to generate a suitable value \n",
    "                        #  for t. Overrides t if specified.\n",
    "    'sec': 128,         # Security parameter. The equivalent length of AES key in bits.\n",
    "                        #  Sets the ciphertext modulus q, can be one of {128, 192, 256}\n",
    "                        #  More means more security but also slower computation.\n",
    "}\n",
    "HE.contextGen(**bfv_params)  # Generate context for bfv scheme\n",
    "HE.keyGen()             # Key Generation: generates a pair of public/secret keys\n",
    "HE.rotateKeyGen()       # Rotate key generation --> Allows rotation/shifting\n",
    "HE.relinKeyGen()        # Relinearization key generation\n",
    "\n",
    "print(\"\\n1. Pyfhel FHE context generation\")\n",
    "print(f\"\\t{HE}\")"
   ]
  },
  {
   "cell_type": "markdown",
   "metadata": {},
   "source": [
    "## 2. Integer Array Encoding & Encryption\n",
    "we will define two 1D integer arrays, encode and encrypt them:\n",
    "arr1 = [0, 1, ... n-1] (length n)\n",
    "arr2 = [-t//2, -1, 1]  (length 3) --> Encoding fills the rest of the array with zeros\n",
    "\n"
   ]
  },
  {
   "cell_type": "code",
   "execution_count": 3,
   "metadata": {},
   "outputs": [
    {
     "name": "stdout",
     "output_type": "stream",
     "text": [
      "\n",
      "2. Integer Encoding & Encryption, \n",
      "->\tarr1  [   0    1    2 ... 8189 8190 8191] \n",
      "\t==> ptxt1  <Pyfhel Plaintext at 0x7f50442dbbc0, scheme=bfv, poly=76277x^8191 + F8950x^8190..., is_ntt=-> \n",
      "\t==> ctxt1  <Pyfhel Ciphertext at 0x7f50602e2160, scheme=bfv, size=2/2, noiseBudget=146>\n",
      "->\tarr2  [-32769     -1      1] \n",
      "\t==> ptxt2  <Pyfhel Plaintext at 0x7f50442dbe40, scheme=bfv, poly=68C4Bx^8191 + E2400x^8190..., is_ntt=-> \n",
      "\t==> ctxt2  <Pyfhel Ciphertext at 0x7f50602e0f40, scheme=bfv, size=2/2, noiseBudget=146>\n"
     ]
    }
   ],
   "source": [
    "arr1 = np.arange(bfv_params['n'], dtype=np.int64)    # Max possible value is t/2-1. Always use type int64!\n",
    "arr2 = np.array([-bfv_params['t']//2, -1, 1], dtype=np.int64)  # Min possible value is -t/2. \n",
    "\n",
    "ptxt1 = HE.encodeInt(arr1)   # Creates a PyPtxt plaintext with the encoded arr1\n",
    "ptxt2 = HE.encodeInt(arr2)   # plaintexts created from arrays shorter than 'n' are filled with zeros.\n",
    "\n",
    "ctxt1 = HE.encryptPtxt(ptxt1) # Encrypts the plaintext ptxt1 and returns a PyCtxt\n",
    "ctxt2 = HE.encryptPtxt(ptxt2) #  Alternatively you can use HE.encryptInt(arr2)\n",
    "\n",
    "# Otherwise, a single call to `HE.encrypt` would detect the data type,\n",
    "#  encode it and encrypt it\n",
    "#> ctxt1 = HE.encrypt(arr1)\n",
    "\n",
    "print(\"\\n2. Integer Encoding & Encryption, \")\n",
    "print(\"->\\tarr1 \", arr1,'\\n\\t==> ptxt1 ', ptxt1,'\\n\\t==> ctxt1 ', ctxt1)\n",
    "print(\"->\\tarr2 \", arr2,'\\n\\t==> ptxt2 ', ptxt2,'\\n\\t==> ctxt2 ', ctxt2)"
   ]
  },
  {
   "cell_type": "markdown",
   "metadata": {},
   "source": [
    "## 3. Securely operating on encrypted ingeger arrays\n",
    "We try all the operations supported by Pyfhel.\n",
    " Note that, to operate, the ciphertexts/plaintexts must be built with the same\n",
    " context. Internal checks prevent ops between ciphertexts of different contexts.\n",
    "\n"
   ]
  },
  {
   "cell_type": "code",
   "execution_count": 4,
   "metadata": {},
   "outputs": [
    {
     "name": "stdout",
     "output_type": "stream",
     "text": [
      "3. Secure operations\n",
      " Ciphertext-ciphertext: \n",
      "->\tctxt1 + ctxt2 = ccSum:  <Pyfhel Ciphertext at 0x7f50602e2ac0, scheme=bfv, size=2/2, noiseBudget=146>\n",
      "->\tctxt1 - ctxt2 = ccSub:  <Pyfhel Ciphertext at 0x7f50602e2a70, scheme=bfv, size=2/2, noiseBudget=146>\n",
      "->\tctxt1 * ctxt2 = ccMul:  <Pyfhel Ciphertext at 0x7f50602e1800, scheme=bfv, size=3/3, noiseBudget=114>\n",
      " Single ciphertext: \n",
      "->\tctxt1**2      = cSq  :  <Pyfhel Ciphertext at 0x7f50461a12b0, scheme=bfv, size=3/3, noiseBudget=114>\n",
      "->\t- ctxt1       = cNeg :  <Pyfhel Ciphertext at 0x7f50602e0e00, scheme=bfv, size=2/2, noiseBudget=146>\n",
      "->\tctxt1**3      = cPow :  <Pyfhel Ciphertext at 0x7f50602e2610, scheme=bfv, size=2/2, noiseBudget=82>\n",
      "->\tctxt1 >> 2    = cRotR:  <Pyfhel Ciphertext at 0x7f50442a51c0, scheme=bfv, size=2/2, noiseBudget=143>\n",
      "->\tctxt1 << 2    = cRotL:  <Pyfhel Ciphertext at 0x7f50602e12b0, scheme=bfv, size=2/2, noiseBudget=143>\n",
      "->\tctxt1 | 1     = cFlip:  <Pyfhel Ciphertext at 0x7f50442c0950, scheme=bfv, size=2/2, noiseBudget=143>\n",
      "->\t(+ctxt1)      = cCuAdd:  <Pyfhel Ciphertext at 0x7f50442c15d0, scheme=bfv, size=2/2, noiseBudget=131>\n",
      " Ciphertext-plaintext: \n",
      "->\tctxt1 + ptxt2 = cpSum:  <Pyfhel Ciphertext at 0x7f50442c37e0, scheme=bfv, size=2/2, noiseBudget=146>\n",
      "->\tctxt1 - ptxt2 = cpSub:  <Pyfhel Ciphertext at 0x7f50442c3830, scheme=bfv, size=2/2, noiseBudget=146>\n",
      "->\tctxt1 * ptxt2 = cpMul:  <Pyfhel Ciphertext at 0x7f50442c3920, scheme=bfv, size=2/2, noiseBudget=121>\n"
     ]
    }
   ],
   "source": [
    "# Ciphertext-ciphertext ops:\n",
    "ccSum = ctxt1 + ctxt2       # Calls HE.add(ctxt1, ctxt2, in_new_ctxt=True)\n",
    "                            #  `ctxt1 += ctxt2` for inplace operation\n",
    "ccSub = ctxt1 - ctxt2       # Calls HE.sub(ctxt1, ctxt2, in_new_ctxt=True)\n",
    "                            #  `ctxt1 -= ctxt2` for inplace operation\n",
    "ccMul = ctxt1 * ctxt2       # Calls HE.multiply(ctxt1, ctxt2, in_new_ctxt=True)\n",
    "                            #  `ctxt1 *= ctxt2` for inplace operation\n",
    "cSq   = ctxt1**2            # Calls HE.square(ctxt1, in_new_ctxt=True)\n",
    "                            #  `ctxt1 **= 2` for inplace operation\n",
    "cNeg  = -ctxt1              # Calls HE.negate(ctxt1, in_new_ctxt=True)\n",
    "                            # \n",
    "cPow  = ctxt1**3            # Calls HE.power(ctxt1, 3, in_new_ctxt=True)\n",
    "                            #  `ctxt1 **= 3` for inplace operation\n",
    "cRotR = ctxt1 >> 2          # Calls HE.rotate(ctxt1, k=2, in_new_ctxt=True)\n",
    "                            #  `ctxt1 >>= 2` for inplace operation\n",
    "                            # WARNING! the encoded data is placed in a n//2 by 2\n",
    "                            #  matrix. Hence, these rotations apply independently\n",
    "                            #  to each of the rows!\n",
    "cRotL = ctxt1 << 2          # Calls HE.rotate(ctxt1, k=-2, in_new_ctxt=True)\n",
    "                            #  `ctxt1 <<= 2` for inplace operation\n",
    "cFlip = ctxt1 ^ 1           # Calls HE.flip(ctxt1, k=1, in_new_ctxt=True)\n",
    "                            #  `ctxt1 |= 1` for inplace operation\n",
    "cCuAdd = (+ctxt1)           # Calls HE.cumul_add(ctxt1, in_new_ctxt=True)\n",
    "                            #  There is no equivalent for in-place operator, use\n",
    "                            #  the above call with `in_new_ctxt=False` if required.\n",
    "\n",
    "# Ciphetext-plaintext ops\n",
    "cpSum = ctxt1 + ptxt2       # Calls HE.add_plain(ctxt1, ptxt2, in_new_ctxt=True)\n",
    "                            # `ctxt1 += ctxt2` for inplace operation\n",
    "cpSub = ctxt1 - ptxt2       # Calls HE.sub_plain(ctxt1, ptxt2, in_new_ctxt=True)\n",
    "                            # `ctxt1 -= ctxt2` for inplace operation\n",
    "cpMul = ctxt1 * ptxt2       # Calls HE.multiply_plain(ctxt1, ptxt2, in_new_ctxt=True)\n",
    "                            # `ctxt1 *= ctxt2` for inplace operation\n",
    "\n",
    "\n",
    "print(\"3. Secure operations\")\n",
    "print(\" Ciphertext-ciphertext: \")\n",
    "print(\"->\\tctxt1 + ctxt2 = ccSum: \",  ccSum)\n",
    "print(\"->\\tctxt1 - ctxt2 = ccSub: \",  ccSub)\n",
    "print(\"->\\tctxt1 * ctxt2 = ccMul: \",  ccMul)\n",
    "print(\" Single ciphertext: \")\n",
    "print(\"->\\tctxt1**2      = cSq  : \",  cSq  )\n",
    "print(\"->\\t- ctxt1       = cNeg : \",  cNeg )\n",
    "print(\"->\\tctxt1**3      = cPow : \",  cPow )\n",
    "print(\"->\\tctxt1 >> 2    = cRotR: \",  cRotR)\n",
    "print(\"->\\tctxt1 << 2    = cRotL: \",  cRotL)\n",
    "print(\"->\\tctxt1 | 1     = cFlip: \",  cFlip)\n",
    "print(\"->\\t(+ctxt1)      = cCuAdd: \", cCuAdd)\n",
    "print(\" Ciphertext-plaintext: \")\n",
    "print(\"->\\tctxt1 + ptxt2 = cpSum: \",  cpSum)\n",
    "print(\"->\\tctxt1 - ptxt2 = cpSub: \",  cpSub)\n",
    "print(\"->\\tctxt1 * ptxt2 = cpMul: \",  cpMul)"
   ]
  },
  {
   "cell_type": "markdown",
   "metadata": {},
   "source": [
    "## 4. BFV Relinearization: What, why, when\n",
    "Ciphertext-ciphertext multiplications increase the size of the polynoms \n",
    " representing the resulting ciphertext. To prevent this growth, the \n",
    " relinearization technique is used (typically right after each c-c mult) to \n",
    " reduce the size of a ciphertext back to the minimal size (two polynoms c0 & c1).\n",
    " For this, a special type of public key called Relinearization Key is used.\n",
    "\n",
    "In Pyfhel, you can either generate a relin key with HE.RelinKeyGen() or skip it\n",
    " and call HE.relinearize() directly, in which case a warning is issued.\n",
    "\n",
    "Note that HE.power performs relinearization after every multiplication.\n",
    "\n"
   ]
  },
  {
   "cell_type": "code",
   "execution_count": null,
   "metadata": {},
   "outputs": [],
   "source": [
    "print(\"\\n4. Relinearization-> Right after each multiplication.\")\n",
    "print(f\"ccMul before relinearization (size {ccMul.size()}): {ccMul}\")\n",
    "~ccMul    # Equivalent to HE.relinearize(ccMul). Relin always happens in-place.\n",
    "print(f\"ccMul after relinearization (size {ccMul.size()}): {ccMul}\")\n",
    "print(f\"cPow after 2 mult&relin rounds:  (size {cPow.size()}): {cPow}\")"
   ]
  },
  {
   "cell_type": "markdown",
   "metadata": {},
   "source": [
    "## 5. Decrypt & Decode results\n",
    "Time to decrypt results! We use HE.decryptInt for this. \n",
    " HE.decrypt() could also be used, in which case the decryption type would be\n",
    " inferred from the ciphertext metadata. \n",
    "\n"
   ]
  },
  {
   "cell_type": "code",
   "execution_count": null,
   "metadata": {},
   "outputs": [],
   "source": [
    "r1     = HE.decryptInt(ctxt1)\n",
    "r2     = HE.decryptInt(ctxt2)\n",
    "rccSum = HE.decryptInt(ccSum)\n",
    "rccSub = HE.decryptInt(ccSub)\n",
    "rccMul = HE.decryptInt(ccMul)\n",
    "rcSq   = HE.decryptInt(cSq  )\n",
    "rcNeg  = HE.decryptInt(cNeg )\n",
    "rcPow  = HE.decryptInt(cPow )\n",
    "rcRotR = HE.decryptInt(cRotR)\n",
    "rcRotL = HE.decryptInt(cRotL)\n",
    "rcFlip = HE.decryptInt(cFlip)\n",
    "rcCuAdd = HE.decryptInt(cCuAdd)\n",
    "rcpSum = HE.decryptInt(cpSum)\n",
    "rcpSub = HE.decryptInt(cpSub)\n",
    "rcpMul = HE.decryptInt(cpMul)\n",
    "\n",
    "print(\"5. Decrypting results\")\n",
    "print(\" Original ciphertexts: \")\n",
    "print(\"   ->\\tctxt1 --(decr)--> \", r1)\n",
    "print(\"   ->\\tctxt2 --(decr)--> \", r2)\n",
    "print(\" Ciphertext-ciphertext Ops: \")\n",
    "print(\"   ->\\tctxt1 + ctxt2 = ccSum --(decr)--> \", rccSum)\n",
    "print(\"   ->\\tctxt1 - ctxt2 = ccSub --(decr)--> \", rccSub)\n",
    "print(\"   ->\\tctxt1 * ctxt2 = ccMul --(decr)--> \", rccMul)\n",
    "print(\" Single ciphertext: \")\n",
    "print(\"   ->\\tctxt1**2      = cSq   --(decr)--> \", rcSq  )\n",
    "print(\"   ->\\t- ctxt1       = cNeg  --(decr)--> \", rcNeg )\n",
    "print(\"   ->\\tctxt1**3      = cPow  --(decr)--> \", rcPow )\n",
    "print(\"   ->\\tctxt1 >> 2    = cRotR --(decr)--> \", rcRotR)\n",
    "print(\"   ->\\tctxt1 << 2    = cRotL --(decr)--> \", rcRotL)\n",
    "print(\"   ->\\tctxt1 | 1     = cFlip --(decr)--> \", rcFlip)\n",
    "print(\"   ->\\t(+tctxt1)     = cCuAdd -(decr)--> \", rcCuAdd)\n",
    "print(\" Ciphertext-plaintext ops: \")\n",
    "print(\"   ->\\tctxt1 + ptxt2 = cpSum --(decr)--> \", rcpSum)\n",
    "print(\"   ->\\tctxt1 - ptxt2 = cpSub --(decr)--> \", rcpSub)\n",
    "print(\"   ->\\tctxt1 * ptxt2 = cpMul --(decr)--> \", rcpMul)"
   ]
  }
 ],
 "metadata": {
  "kernelspec": {
   "display_name": "Python 3 (ipykernel)",
   "language": "python",
   "name": "python3"
  },
  "language_info": {
   "codemirror_mode": {
    "name": "ipython",
    "version": 3
   },
   "file_extension": ".py",
   "mimetype": "text/x-python",
   "name": "python",
   "nbconvert_exporter": "python",
   "pygments_lexer": "ipython3",
   "version": "3.10.12"
  }
 },
 "nbformat": 4,
 "nbformat_minor": 1
}
