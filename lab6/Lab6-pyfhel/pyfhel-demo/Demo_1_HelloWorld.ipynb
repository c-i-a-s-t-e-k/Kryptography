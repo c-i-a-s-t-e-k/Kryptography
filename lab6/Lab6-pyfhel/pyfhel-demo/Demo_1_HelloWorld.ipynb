{
 "cells": [
  {
   "cell_type": "markdown",
   "metadata": {},
   "source": [
    "\n",
    "# HelloWorld\n",
    "\n",
    "This basic example shows the simplest use of the library by\n",
    "encrypting two integers, operating with them (+,-,*) and decrypting\n",
    "the results.\n"
   ]
  },
  {
   "cell_type": "markdown",
   "metadata": {},
   "source": [
    "## 1. Imports\n",
    "We start by importing the library with the three main classes:\n",
    "\n",
    "* Pyfhel class contains most of the functions.\n",
    "* PyPtxt is the plaintext class\n",
    "* PyCtxt is the ciphertext class\n",
    "\n"
   ]
  },
  {
   "cell_type": "code",
   "execution_count": null,
   "metadata": {},
   "outputs": [],
   "source": [
    "!pip  install Pyfhel \n",
    "\n",
    "from Pyfhel import Pyfhel, PyPtxt, PyCtxt\n",
    "\n",
    "import numpy as np\n",
    "#from Pyfhel import Pyfhel\n",
    "print(\"1. Import Pyfhel class, and numpy for the inputs to encrypt.\")"
   ]
  },
  {
   "cell_type": "markdown",
   "metadata": {},
   "source": [
    "## 2. Context and key setup\n",
    "We will start the Helloworld by generating a context and a public/secret key pair.\n",
    "This is all managed by a Pyfhel instance under the hood.\n",
    "\n"
   ]
  },
  {
   "cell_type": "code",
   "execution_count": null,
   "metadata": {},
   "outputs": [],
   "source": [
    "HE = Pyfhel()           # Creating empty Pyfhel object\n",
    "HE.contextGen(scheme='bfv', n=2**14, t_bits=20)  # Generate context for 'bfv'/'ckks' scheme\n",
    "                        # The n defines the number of plaintext slots.\n",
    "                        #  There are many configurable parameters on this step\n",
    "                        #  More info in Demo_2, Demo_3, and Pyfhel.contextGen()\n",
    "HE.keyGen()             # Key Generation: generates a pair of public/secret keys"
   ]
  },
  {
   "cell_type": "markdown",
   "metadata": {},
   "source": [
    "The best way to obtain information from a created Pyfhel object is to print it:\n",
    "\n"
   ]
  },
  {
   "cell_type": "code",
   "execution_count": null,
   "metadata": {},
   "outputs": [],
   "source": [
    "print(\"2. Context and key setup\")\n",
    "print(HE)"
   ]
  },
  {
   "cell_type": "markdown",
   "metadata": {},
   "source": [
    "## 3. Integer Encryption\n",
    "we will define two integers and encrypt them using `encryptInt`:\n",
    "\n"
   ]
  },
  {
   "cell_type": "code",
   "execution_count": null,
   "metadata": {},
   "outputs": [],
   "source": [
    "integer1 = np.array([127], dtype=np.int64)\n",
    "integer2 = np.array([-2], dtype=np.int64)\n",
    "integer3 = np.array([2], dtype=np.int64)\n",
    "ctxt1 = HE.encryptInt(integer1) # Encryption makes use of the public key\n",
    "ctxt2 = HE.encryptInt(integer2) # For integers, encryptInt function is used.\n",
    "ctxt3 = HE.encryptInt(integer3) # For integers, encryptInt function is used.\n",
    "print(\"3. Integer Encryption, \")\n",
    "print(\"    int \",integer1,'-> ctxt1 ', type(ctxt1))\n",
    "print(\"    int \",integer2,'-> ctxt2 ', type(ctxt2))\n",
    "print(\"    int \",integer3,'-> ctxt2 ', type(ctxt2))"
   ]
  },
  {
   "cell_type": "markdown",
   "metadata": {},
   "source": [
    "# The best way to obtain information from a ciphertext is to print it:\n",
    "\n"
   ]
  },
  {
   "cell_type": "code",
   "execution_count": null,
   "metadata": {},
   "outputs": [],
   "source": [
    "print(ctxt1)\n",
    "print(ctxt2)\n",
    "print(ctxt3)"
   ]
  },
  {
   "cell_type": "markdown",
   "metadata": {},
   "source": [
    "## 4. Operating with encrypted integers\n",
    "Relying on the context defined before, we will now operate\n",
    "(addition, substaction, multiplication) the two ciphertexts:\n",
    "\n"
   ]
  },
  {
   "cell_type": "code",
   "execution_count": null,
   "metadata": {},
   "outputs": [],
   "source": [
    "ctxtSum = ctxt1 + ctxt2  + ctxt3       # `ctxt1 += ctxt2` for inplace operation\n",
    "ctxtSub = ctxt1 - ctxt2         # `ctxt1 -= ctxt2` for inplace operation\n",
    "ctxtMul = ctxt1 * ctxt2  * ctxt3  *ctxt3     # `ctxt1 *= ctxt2` for inplace operation\n",
    "print(\"4. Operating with encrypted integers\")\n",
    "print(f\"Sum: {ctxtSum}\")\n",
    "print(f\"Sub: {ctxtSub}\")\n",
    "print(f\"Mult:{ctxtMul}\")"
   ]
  },
  {
   "cell_type": "markdown",
   "metadata": {},
   "source": [
    "## 5.  Decrypting integers\n",
    "Once we're finished with the encrypted operations, we can use\n",
    "the Pyfhel instance to decrypt the results using `decryptInt`:\n",
    "\n"
   ]
  },
  {
   "cell_type": "code",
   "execution_count": null,
   "metadata": {},
   "outputs": [],
   "source": [
    "resSum = HE.decryptInt(ctxtSum) # Decryption must use the corresponding function\n",
    "                                #  decryptInt.\n",
    "resSub = HE.decryptInt(ctxtSub)\n",
    "resMul = HE.decryptInt(ctxtMul)\n",
    "print(\"#. Decrypting result:\")\n",
    "print(\"     addition:       decrypt(ctxt1 + ctxt2) =  \", resSum)\n",
    "print(\"     substraction:   decrypt(ctxt1 - ctxt2) =  \", resSub)\n",
    "print(\"     multiplication: decrypt(ctxt1 + ctxt2) =  \", resMul)"
   ]
  },
  {
   "cell_type": "code",
   "execution_count": null,
   "metadata": {},
   "outputs": [],
   "source": []
  }
 ],
 "metadata": {
  "kernelspec": {
   "display_name": "Python 3 (ipykernel)",
   "language": "python",
   "name": "python3"
  },
  "language_info": {
   "codemirror_mode": {
    "name": "ipython",
    "version": 3
   },
   "file_extension": ".py",
   "mimetype": "text/x-python",
   "name": "python",
   "nbconvert_exporter": "python",
   "pygments_lexer": "ipython3",
   "version": "3.10.12"
  }
 },
 "nbformat": 4,
 "nbformat_minor": 1
}
