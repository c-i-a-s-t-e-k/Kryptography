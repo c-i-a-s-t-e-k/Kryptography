{
  "cells": [
    {
      "cell_type": "markdown",
      "metadata": {},
      "source": [
        "\n# Integer FHE with BGV scheme\n//TODO\n"
      ]
    },
    {
      "cell_type": "markdown",
      "metadata": {},
      "source": [
        "## 1. Imports\nWe start by importing the library\n\n"
      ]
    },
    {
      "cell_type": "code",
      "execution_count": null,
      "metadata": {
        "collapsed": false
      },
      "outputs": [],
      "source": [
        "import numpy as np\nfrom Pyfhel import Pyfhel\n\nprint(\"\\n1. Pyfhel Import\")"
      ]
    },
    {
      "cell_type": "markdown",
      "metadata": {},
      "source": [
        "## 2. BGV context and key setup\nWe take a look at the different parameters that can be set for the BGV scheme.\n\n"
      ]
    },
    {
      "cell_type": "code",
      "execution_count": null,
      "metadata": {
        "collapsed": false
      },
      "outputs": [],
      "source": [
        "HE = Pyfhel()           # Creating empty Pyfhel object\n\n# HE.contextGen(scheme='bgv', n=2**14, t_bits=20)  # Generate context for 'bfv'/'bgv'/'ckks' scheme\n\nbgv_params = {\n    'scheme': 'BGV',    # can also be 'bgv'\n    'n': 2**13,         # Polynomial modulus degree, the num. of slots per plaintext,\n                        #  of elements to be encoded in a single ciphertext in a\n                        #  2 by n/2 rectangular matrix (mind this shape for rotations!)\n                        #  Typ. 2^D for D in [10, 16]\n    't': 65537,         # Plaintext modulus. Encrypted operations happen modulo t\n                        #  Must be prime such that t-1 be divisible by 2^N.\n    't_bits': 20,       # Number of bits in t. Used to generate a suitable value\n                        #  for t. Overrides t if specified.\n    'sec': 128,         # Security parameter. The equivalent length of AES key in bits.\n                        #  Sets the ciphertext modulus q, can be one of {128, 192, 256}\n                        #  More means more security but also slower computation.\n}\nHE.contextGen(**bgv_params)  # Generate context for bgv scheme\nHE.keyGen()             # Key Generation: generates a pair of public/secret keys\nHE.rotateKeyGen()       # Rotate key generation --> Allows rotation/shifting\nHE.relinKeyGen()        # Relinearization key generation\n\nprint(\"\\n2. Pyfhel FHE context generation\")\nprint(f\"\\t{HE}\")"
      ]
    },
    {
      "cell_type": "markdown",
      "metadata": {},
      "source": [
        "## 3. BGV Integer Encryption\nwe will define two integers and encrypt them using `encryptBGV`:\n\n"
      ]
    },
    {
      "cell_type": "code",
      "execution_count": null,
      "metadata": {
        "collapsed": false
      },
      "outputs": [],
      "source": [
        "integer1 = np.array([127], dtype=np.int64)\ninteger2 = np.array([-2], dtype=np.int64)\nctxt1 = HE.encryptBGV(integer1) # Encryption makes use of the public key\nctxt2 = HE.encryptBGV(integer2) # For BGV, encryptBGV function is used.\nprint(\"\\n3. BGV Encryption, \")\nprint(\"    int \",integer1,'-> ctxt1 ', type(ctxt1))\nprint(\"    int \",integer2,'-> ctxt2 ', type(ctxt2))"
      ]
    },
    {
      "cell_type": "markdown",
      "metadata": {},
      "source": [
        "# The best way to obtain information from a ciphertext is to print it:\n\n"
      ]
    },
    {
      "cell_type": "code",
      "execution_count": null,
      "metadata": {
        "collapsed": false
      },
      "outputs": [],
      "source": [
        "print(ctxt1)\nprint(ctxt2)"
      ]
    },
    {
      "cell_type": "markdown",
      "metadata": {},
      "source": [
        "## 4. Operating with encrypted integers in BGV\nRelying on the context defined before, we will now operate\n(addition, substaction, multiplication) the two ciphertexts:\n\n"
      ]
    },
    {
      "cell_type": "code",
      "execution_count": null,
      "metadata": {
        "collapsed": false
      },
      "outputs": [],
      "source": [
        "ctxtSum = ctxt1 + ctxt2         # `ctxt1 += ctxt2` for inplace operation\nctxtSub = ctxt1 - ctxt2         # `ctxt1 -= ctxt2` for inplace operation\nctxtMul = ctxt1 * ctxt2         # `ctxt1 *= ctxt2` for inplace operation\nprint(\"\\n4. Operating with encrypted integers\")\nprint(f\"Sum: {ctxtSum}\")\nprint(f\"Sub: {ctxtSub}\")\nprint(f\"Mult:{ctxtMul}\")"
      ]
    },
    {
      "cell_type": "markdown",
      "metadata": {},
      "source": [
        "## 5.  Decrypting BGV integers\nOnce we're finished with the encrypted operations, we can use\nthe Pyfhel instance to decrypt the results using `decryptBGV`:\n\n"
      ]
    },
    {
      "cell_type": "code",
      "execution_count": null,
      "metadata": {
        "collapsed": false
      },
      "outputs": [],
      "source": [
        "resSum = HE.decryptBGV(ctxtSum) # Decryption must use the corresponding function\n                                #  decryptBGV.\nresSub = HE.decrypt(ctxtSub)    # `decrypt` function detects the scheme and\n                                #  calls the corresponding decryption function.\nresMul = HE.decryptBGV(ctxtMul)\nprint(\"\\n5. Decrypting result:\")\nprint(\"     addition:       decrypt(ctxt1 + ctxt2) =  \", resSum)\nprint(\"     substraction:   decrypt(ctxt1 - ctxt2) =  \", resSub)\nprint(\"     multiplication: decrypt(ctxt1 + ctxt2) =  \", resMul)"
      ]
    },
    {
      "cell_type": "markdown",
      "metadata": {},
      "source": [
        "## 6. Integer Array Encoding & Encryption\nwe will define two 1D integer arrays, encode and encrypt them:\narr1 = [0, 1, ... n-1] (length n)\narr2 = [-t//2, -1, 1]  (length 3) --> Encoding fills the rest of the array with zeros\n\n"
      ]
    },
    {
      "cell_type": "code",
      "execution_count": null,
      "metadata": {
        "collapsed": false
      },
      "outputs": [],
      "source": [
        "arr1 = np.arange(bgv_params['n'], dtype=np.int64)    # Max possible value is t/2-1. Always use type int64!\narr2 = np.array([-bgv_params['t']//2, -1, 1], dtype=np.int64)  # Min possible value is -t/2.\n\nptxt1 = HE.encodeBGV(arr1)   # Creates a PyPtxt plaintext with the encoded arr1\n                             # plaintexts created from arrays shorter than 'n' are filled with zeros.\nptxt2 = HE.encode(arr2)      # `encode` function detects the scheme and calls the\n                             #  corresponding encoding function.\n\nassert np.allclose(HE.decodeBGV(ptxt1), arr1)  # Decoding the encoded array should return the original array\nassert np.allclose(HE.decode(ptxt2)[:3], arr2)     # `decode` function detects the scheme\n\nctxt1 = HE.encryptPtxt(ptxt1) # Encrypts the plaintext ptxt1 and returns a PyCtxt\nctxt2 = HE.encryptPtxt(ptxt2) #  Alternatively you can use HE.encryptInt(arr2)\n\n# Otherwise, a single call to `HE.encrypt` would detect the data type,\n#  encode it and encrypt it\n#> ctxt1 = HE.encrypt(arr1)\n\nprint(\"\\n6. Integer Array Encoding & Encryption, \")\nprint(\"->\\tarr1 \", arr1,'\\n\\t==> ptxt1 ', ptxt1,'\\n\\t==> ctxt1 ', ctxt1)\nprint(\"->\\tarr2 \", arr2,'\\n\\t==> ptxt2 ', ptxt2,'\\n\\t==> ctxt2 ', ctxt2)"
      ]
    },
    {
      "cell_type": "markdown",
      "metadata": {},
      "source": [
        "## 7. Securely operating on encrypted ingeger arrays\nWe try all the operations supported by Pyfhel.\n Note that, to operate, the ciphertexts/plaintexts must be built with the same\n context. Internal checks prevent ops between ciphertexts of different contexts.\n\n"
      ]
    },
    {
      "cell_type": "code",
      "execution_count": null,
      "metadata": {
        "collapsed": false
      },
      "outputs": [],
      "source": [
        "# Ciphertext-ciphertext ops:\nccSum = ctxt1 + ctxt2       # Calls HE.add(ctxt1, ctxt2, in_new_ctxt=True)\n                            #  `ctxt1 += ctxt2` for inplace operation\nccSub = ctxt1 - ctxt2       # Calls HE.sub(ctxt1, ctxt2, in_new_ctxt=True)\n                            #  `ctxt1 -= ctxt2` for inplace operation\nccMul = ctxt1 * ctxt2       # Calls HE.multiply(ctxt1, ctxt2, in_new_ctxt=True)\n                            #  `ctxt1 *= ctxt2` for inplace operation\ncSq   = ctxt1**2            # Calls HE.square(ctxt1, in_new_ctxt=True)\n                            #  `ctxt1 **= 2` for inplace operation\ncNeg  = -ctxt1              # Calls HE.negate(ctxt1, in_new_ctxt=True)\n                            #\ncPow  = ctxt1**3            # Calls HE.power(ctxt1, 3, in_new_ctxt=True)\n                            #  `ctxt1 **= 3` for inplace operation\ncRotR = ctxt1 >> 2          # Calls HE.rotate(ctxt1, k=2, in_new_ctxt=True)\n                            #  `ctxt1 >>= 2` for inplace operation\n                            # WARNING! the encoded data is placed in a n//2 by 2\n                            #  matrix. Hence, these rotations apply independently\n                            #  to each of the rows!\ncRotL = ctxt1 << 2          # Calls HE.rotate(ctxt1, k=-2, in_new_ctxt=True)\n                            #  `ctxt1 <<= 2` for inplace operation\n\n# Ciphetext-plaintext ops\ncpSum = ctxt1 + ptxt2       # Calls HE.add_plain(ctxt1, ptxt2, in_new_ctxt=True)\n                            # `ctxt1 += ctxt2` for inplace operation\ncpSub = ctxt1 - ptxt2       # Calls HE.sub_plain(ctxt1, ptxt2, in_new_ctxt=True)\n                            # `ctxt1 -= ctxt2` for inplace operation\ncpMul = ctxt1 * ptxt2       # Calls HE.multiply_plain(ctxt1, ptxt2, in_new_ctxt=True)\n                            # `ctxt1 *= ctxt2` for inplace operation\n\n\nprint(\"\\n7. Secure operations\")\nprint(\" Ciphertext-ciphertext: \")\nprint(\"->\\tctxt1 + ctxt2 = ccSum: \", ccSum)\nprint(\"->\\tctxt1 - ctxt2 = ccSub: \", ccSub)\nprint(\"->\\tctxt1 * ctxt2 = ccMul: \", ccMul)\nprint(\" Single ciphertext: \")\nprint(\"->\\tctxt1**2      = cSq  : \", cSq  )\nprint(\"->\\t- ctxt1       = cNeg : \", cNeg )\nprint(\"->\\tctxt1**3      = cPow : \", cPow )\nprint(\"->\\tctxt1 >> 2    = cRotR: \", cRotR)\nprint(\"->\\tctxt1 << 2    = cRotL: \", cRotL)\nprint(\" Ciphertext-plaintext: \")\nprint(\"->\\tctxt1 + ptxt2 = cpSum: \", cpSum)\nprint(\"->\\tctxt1 - ptxt2 = cpSub: \", cpSub)\nprint(\"->\\tctxt1 * ptxt2 = cpMul: \", cpMul)"
      ]
    },
    {
      "cell_type": "markdown",
      "metadata": {},
      "source": [
        "## 8. BGV Relinearization: What, why, when\nCiphertext-ciphertext multiplications increase the size of the polynoms\n representing the resulting ciphertext. To prevent this growth, the\n relinearization technique is used (typically right after each c-c mult) to\n reduce the size of a ciphertext back to the minimal size (two polynoms c0 & c1).\n For this, a special type of public key called Relinearization Key is used.\n\nIn Pyfhel, you can either generate a relin key with HE.RelinKeyGen() or skip it\n and call HE.relinearize() directly, in which case a warning is issued.\n\nNote that HE.power performs relinearization after every multiplication.\n\n"
      ]
    },
    {
      "cell_type": "code",
      "execution_count": null,
      "metadata": {
        "collapsed": false
      },
      "outputs": [],
      "source": [
        "print(\"\\n8. Relinearization-> Right after each multiplication.\")\nprint(f\"ccMul before relinearization (size {ccMul.size()}): {ccMul}\")\n~ccMul    # Equivalent to HE.relinearize(ccMul). Relin always happens in-place.\nprint(f\"ccMul after relinearization (size {ccMul.size()}): {ccMul}\")\nprint(f\"cPow after 2 mult&relin rounds:  (size {cPow.size()}): {cPow}\")"
      ]
    },
    {
      "cell_type": "markdown",
      "metadata": {},
      "source": [
        "## 9. Decrypt & Decode results\nTime to decrypt results! We use HE.decryptBGV for this.\n HE.decrypt() could also be used, in which case the decryption type would be\n inferred from the ciphertext metadata.\n\n"
      ]
    },
    {
      "cell_type": "code",
      "execution_count": null,
      "metadata": {
        "collapsed": false
      },
      "outputs": [],
      "source": [
        "r1     = HE.decryptBGV(ctxt1)\nr2     = HE.decryptBGV(ctxt2)\nrccSum = HE.decryptBGV(ccSum)\nrccSub = HE.decryptBGV(ccSub)\nrccMul = HE.decryptBGV(ccMul)\nrcSq   = HE.decryptBGV(cSq  )\nrcNeg  = HE.decryptBGV(cNeg )\nrcPow  = HE.decryptBGV(cPow )\nrcRotR = HE.decryptBGV(cRotR)\nrcRotL = HE.decryptBGV(cRotL)\nrcpSum = HE.decryptBGV(cpSum)\nrcpSub = HE.decryptBGV(cpSub)\nrcpMul = HE.decryptBGV(cpMul)\n\nprint(\"\\n9. Decrypting results\")\nprint(\" Original ciphertexts: \")\nprint(\"   ->\\tctxt1 --(decr)--> \", r1)\nprint(\"   ->\\tctxt2 --(decr)--> \", r2)\nprint(\" Ciphertext-ciphertext Ops: \")\nprint(\"   ->\\tctxt1 + ctxt2 = ccSum --(decr)--> \", rccSum)\nprint(\"   ->\\tctxt1 - ctxt2 = ccSub --(decr)--> \", rccSub)\nprint(\"   ->\\tctxt1 * ctxt2 = ccMul --(decr)--> \", rccMul)\nprint(\" Single ciphertext: \")\nprint(\"   ->\\tctxt1**2      = cSq   --(decr)--> \", rcSq  )\nprint(\"   ->\\t- ctxt1       = cNeg  --(decr)--> \", rcNeg )\nprint(\"   ->\\tctxt1**3      = cPow  --(decr)--> \", rcPow )\nprint(\"   ->\\tctxt1 >> 2    = cRotR --(decr)--> \", rcRotR)\nprint(\"   ->\\tctxt1 << 2    = cRotL --(decr)--> \", rcRotL)\nprint(\" Ciphertext-plaintext ops: \")\nprint(\"   ->\\tctxt1 + ptxt2 = cpSum --(decr)--> \", rcpSum)\nprint(\"   ->\\tctxt1 - ptxt2 = cpSub --(decr)--> \", rcpSub)\nprint(\"   ->\\tctxt1 * ptxt2 = cpMul --(decr)--> \", rcpMul)\n\n\n# %%"
      ]
    }
  ],
  "metadata": {
    "kernelspec": {
      "display_name": "Python 3",
      "language": "python",
      "name": "python3"
    },
    "language_info": {
      "codemirror_mode": {
        "name": "ipython",
        "version": 3
      },
      "file_extension": ".py",
      "mimetype": "text/x-python",
      "name": "python",
      "nbconvert_exporter": "python",
      "pygments_lexer": "ipython3",
      "version": "3.9.17"
    }
  },
  "nbformat": 4,
  "nbformat_minor": 0
}