{
  "cells": [
    {
      "cell_type": "markdown",
      "metadata": {},
      "source": [
        "\n# Client/Server demo with Pyfhel\n\nThis demo shows an example of Client-Server interaction, where the client sends\nan encrypted vector and the server answers with the weighted average based on his\nweights.\n\nTo run with real Client/Server separation (using `flask` and Demo_5bis_CS_Server.py),\nchange the flag below to True.\n"
      ]
    },
    {
      "cell_type": "code",
      "execution_count": null,
      "metadata": {
        "collapsed": false
      },
      "outputs": [],
      "source": [
        "USE_REAL_SERVER: bool = False"
      ]
    },
    {
      "cell_type": "markdown",
      "metadata": {},
      "source": [
        "## 1. Setup Client\n\n"
      ]
    },
    {
      "cell_type": "code",
      "execution_count": null,
      "metadata": {
        "collapsed": false
      },
      "outputs": [],
      "source": [
        "import numpy as np\nfrom Pyfhel import Pyfhel, PyCtxt\nif USE_REAL_SERVER:\n    try:\n        import requests\n    except ImportError:\n        print(\"This demo requires the `requests` python module (install with pip). Exiting.\")\n        exit(0)\n\n# Generate Pyfhel session\nprint(f\"[Client] Initializing Pyfhel session and data...\")\nHE_client = Pyfhel(context_params={'scheme':'ckks', 'n':2**13, 'scale':2**30, 'qi_sizes':[30]*5})\nHE_client.keyGen()             # Generates both a public and a private key\nHE_client.relinKeyGen()\nHE_client.rotateKeyGen()\n\n# Generate and encrypt data\nx = np.array([1.5, 2, 3.3, 4])\ncx = HE_client.encrypt(x)\n\n# Serializing data and public context information\ns_context    = HE_client.to_bytes_context()\ns_public_key = HE_client.to_bytes_public_key()\ns_relin_key  = HE_client.to_bytes_relin_key()\ns_rotate_key = HE_client.to_bytes_rotate_key()\ns_cx         = cx.to_bytes()\n\nprint(f\"[Client] sending HE_client={HE_client} and cx={cx}\")"
      ]
    },
    {
      "cell_type": "markdown",
      "metadata": {},
      "source": [
        "## 2. Setup Server\n\n"
      ]
    },
    {
      "cell_type": "code",
      "execution_count": null,
      "metadata": {
        "collapsed": false
      },
      "outputs": [],
      "source": [
        "print(f\"[Client] launching server (could be launched separately)...\")\nif(USE_REAL_SERVER):\n    import subprocess, os\n    from pathlib import Path\n    dir = Path(os.path.realpath(\"__file__\")).parent\n    process = subprocess.Popen(\n        [\"python\", str(dir / \"Demo_5bis_CS_Server.py\")],\n        stderr=subprocess.STDOUT,\n    )\n    import time\n    time.sleep(6)       # Wait for server initialization\nelse:\n    print(f\"[Server] mock started!...\")\nprint(\"[Client] server initialized...\")"
      ]
    },
    {
      "cell_type": "markdown",
      "metadata": {},
      "source": [
        "## 3. Launch a request to the server\n We map the bytes into strings based on https://stackoverflow.com/a/27527728\n\n"
      ]
    },
    {
      "cell_type": "code",
      "execution_count": null,
      "metadata": {
        "collapsed": false
      },
      "outputs": [],
      "source": [
        "if(USE_REAL_SERVER):\n    r = requests.post('http://127.0.0.1:5000/fhe_mse',\n        json={\n            'context': s_context.decode('cp437'),\n            'pk': s_public_key.decode('cp437'),\n            'rlk':s_relin_key.decode('cp437'),\n            'rtk':s_rotate_key.decode('cp437'),\n            'cx': s_cx.decode('cp437'),\n        })\n    c_res = PyCtxt(pyfhel=HE_client, bytestring=r.text.encode('cp437'))\nelse: # Mocking server code (from Demo_5bis_CS_Server.py)\n    # Read all bytestrings\n    HE_server = Pyfhel()\n    HE_server.from_bytes_context(s_context)\n    HE_server.from_bytes_public_key(s_public_key)\n    HE_server.from_bytes_relin_key(s_relin_key)\n    HE_server.from_bytes_rotate_key(s_rotate_key)\n    cx = PyCtxt(pyfhel=HE_server, bytestring=s_cx)\n    print(f\"[Server] received HE_server={HE_server} and cx={cx}\")\n\n    # Encode weights in plaintext\n    w = np.array([0.5, -1.5,   4,  5])\n    ptxt_w = HE_server.encode(w)\n\n    # Compute weighted average\n    c_mean = (cx * ptxt_w)\n    c_mean /= 4  # 4\n    c_mean += (c_mean >> 1)   # cumulative sum\n    c_mean += (c_mean >> 2)   # element [3] contains the result\n    print(f\"[Server] Average computed! Responding: c_mean={c_mean}\")\n\n    c_res = c_mean.copy() # Copying with a single command"
      ]
    },
    {
      "cell_type": "markdown",
      "metadata": {},
      "source": [
        "## 4. Process Response\nDecrypting result\n\n"
      ]
    },
    {
      "cell_type": "code",
      "execution_count": null,
      "metadata": {
        "collapsed": false
      },
      "outputs": [],
      "source": [
        "res = HE_client.decryptFrac(c_res)\n\n# Checking result\nw = np.array([0.5, -1.5,   4,  5]) # in the server\nexpected = np.mean(x*w)\nprint(f\"[Client] Response received! Result is {np.round(res[3], 4)}, should be {expected}\")"
      ]
    },
    {
      "cell_type": "code",
      "execution_count": null,
      "metadata": {
        "collapsed": false
      },
      "outputs": [],
      "source": [
        "if USE_REAL_SERVER:\n    process.kill()"
      ]
    }
  ],
  "metadata": {
    "kernelspec": {
      "display_name": "Python 3",
      "language": "python",
      "name": "python3"
    },
    "language_info": {
      "codemirror_mode": {
        "name": "ipython",
        "version": 3
      },
      "file_extension": ".py",
      "mimetype": "text/x-python",
      "name": "python",
      "nbconvert_exporter": "python",
      "pygments_lexer": "ipython3",
      "version": "3.9.17"
    }
  },
  "nbformat": 4,
  "nbformat_minor": 0
}