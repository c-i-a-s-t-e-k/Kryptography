{
  "cells": [
    {
      "cell_type": "markdown",
      "metadata": {},
      "source": [
        "\n# Scalar Product.\n\nThis demo shows how to compute scalar product.\n\nTo compute the scalar product between two vectors of size l, we will encrypt\neach vector into one (if l <= n_slots) or several ciphertexts (l>n), then compute\nthe SIMD multiplication and cumulative sum (via rotations and sums), to finally\ndecrypt the result.\n"
      ]
    },
    {
      "cell_type": "code",
      "execution_count": null,
      "metadata": {
        "collapsed": false
      },
      "outputs": [],
      "source": [
        "#  %%\n# ---------------------------------------------------------------------------- #\n# A) SCALAR PRODUCT WITH BFV\n# ---------------------------------------------------------------------------- #"
      ]
    },
    {
      "cell_type": "markdown",
      "metadata": {},
      "source": [
        "## A1. Vector Generation\nWe will define a pair of 1D integer vectors of size l and elementsize <= ``|v_max|``.\n For the purpose of this demo, we can study three cases:\n #1: small l (l <= n) and high v_max.    --> encoding with trailing zeros\n #2: fitting l (l = n) and medium v_max. --> fits the encoding perfectly\n #3: large l (l > n) and low v_max.      --> several ciphertexts per vector\n\n@User: You can modify the case selection below\n\n"
      ]
    },
    {
      "cell_type": "code",
      "execution_count": null,
      "metadata": {
        "collapsed": false
      },
      "outputs": [],
      "source": [
        "CASE_SELECTOR = 2          # 1, 2 or 3\n\nimport warnings\nimport numpy as np\nrng = np.random.default_rng(42)\n\ncase_params = {\n    1: {'l': 256, 'v_max': 2**24-1},         # small l, high v_max\n    2: {'l': 4096, 'v_max': 2**16-1},        # fitting l, medium v_max\n    3: {'l': 65536, 'v_max': 2**8-1},        # large l, low v_max\n}[CASE_SELECTOR]\nl, v_max = case_params['l'], case_params['v_max']\n\n# Generate two random vectors with l elements of values <= |v_max|\nv1 = rng.integers(-v_max, v_max, size=l) \nv2 = rng.integers(-v_max, v_max, size=l)\nspRes = v1@v2\nprint(\"\\nA1. Vector generation\")\nprint(f\"\\tv1 = {str(v1)[:40]+'...'}\")\nprint(f\"\\tv2 = {str(v2)[:40]+'...'}\")\nprint(f\"\\tvRes = {spRes}\")"
      ]
    },
    {
      "cell_type": "markdown",
      "metadata": {},
      "source": [
        "## A2. Context and key setup\nParameter selection goes according to vector length and max element size.\n\n"
      ]
    },
    {
      "cell_type": "code",
      "execution_count": null,
      "metadata": {
        "collapsed": false
      },
      "outputs": [],
      "source": [
        "from Pyfhel import Pyfhel\n\n# utilities to generate context parameters \nbitsize                  = lambda x: np.ceil(np.log2(x))\nget_closest_power_of_two = lambda x: int(2**(bitsize(x)))\n\ndef get_BFV_context_scalar_prod(\n    l: int, v_max: int, sec: int=128,\n    use_n_min: bool=True\n) ->Pyfhel:\n    \"\"\"\n    Returns the best context parameters to compute scalar product in BFV scheme.\n\n    The important context parameters to set are:\n    - n: the polynomial modulus degree (= n_slots)\n    - t: the plaintext modulus         (plaintext element size)\n\n    *Optimal n*: Chosen among {2**10, 2**11, 2**12, 2**13, 2**14, 2**15}, it is\n        the closest power of two to the vector length. However, in order to enable \n        relinearization & rotation (which requires at least two qualifying primes),\n        the minimum value is:\n        - n = 2**12 if sec in {128, 192}\n        - n = 2**13 if sec = 256\n        The bigger n, the more secure the scheme, but the slower the computations.\n        (it might be worth using n<l and have multiple ciphertexts per vector)\n\n        NOTE: the context params are read from seal/utils/globals.cpp, in \n        accordance with homomorphicencryption.org standard to get the chosen \n        security level.\n\n    *Optimal t*: Choose the smallest t (smaller t yields better performance), \n        while being big enough to hold the result of the entire operation:\n        --> t_bits = bitxsize(v_max)*2 + bitsize(l)\n                              ^      ^           ^\n                        max value | mult |  cumul. sum\n        There is, however, a minimal size on t_bits for a given `n`:\n               t_bits_min = 14     if   n <= 2**11\n               t_bits_min = 16     if   n <= 2**12\n               t_bits_min = 17     otherwise\n    \n    Arguments:\n        l: vector length\n        v_max: max element value\n    \n    Returns:\n        Pyfhel: context to perform homomorphic encryption\n    \"\"\"\n    #> OPTIMAL t --> minimum for chosen `n`, or big enough to hold v1@v2\n    t_bits_min = 17\n    t_bits = max(t_bits_min, (v_max).bit_length()*2 + bitsize(l)) \n    if t_bits > 60:\n        raise ValueError(f\"t_bits = {t_bits} > 60. Choose a smaller v_max.\")\n\n    #> OPTIMAL n\n    n_min = 2**12 if sec in [128, 192] else 2**13\n    if use_n_min:           n = n_min    # use n_min regardless of l\n    elif 2*l < n_min:       n = n_min    # Smallest\n    elif 2*l > 2**15:       n = 2**15    # Largest\n    else:                   n = get_closest_power_of_two(2*l)\n\n    context_params = {\n        'scheme': 'BFV',\n        'n': n,          # Poly modulus degree. BFV ptxt is a n//2 by 2 matrix.\n        't_bits': t_bits,# Plaintext modulus.\n        'sec': sec,      # Security level.\n    }\n\n    # Increasing `n` to get enough noise budget for the c1*c2 multiplication.\n    #  Since the noise budget in a multiplication consumes t_bits (+...) noise\n    #  budget and we start with `total_coeff_modulus_bit_count-t_bits` budget, #  we check if this is high enough to decrypt correctly.\n    HE = Pyfhel()\n    total_coeff_modulus_bit_count = 0\n    while total_coeff_modulus_bit_count - 2*t_bits <= 0:\n        context_status = HE.contextGen(**context_params)\n        total_coeff_modulus_bit_count = HE.total_coeff_modulus_bit_count\n        context_params['n'] *= 2\n        if context_params['n'] > 2**15:\n            raise ValueError(f\"n = {context_params['n']} > 2**15. Valid parameters not found.\")\n    \n    # Increasing t_bits to maintain coprimality between t and q\n    while context_status != 'success: valid':\n        context_params['t_bits'] += 1\n        if context_params['t_bits'] > 60:\n            raise ValueError(f\"t_bits= {context_params['t_bits']} > 60. Valid parameters not valid.\")\n        context_status = HE.contextGen(**context_params)\n    return HE\n\n# Setup parameters for HE context\nHE = get_BFV_context_scalar_prod(l, v_max, sec=128, use_n_min=True)\nHE.keyGen()\nHE.relinKeyGen()\nHE.rotateKeyGen()\n\nprint(\"\\nA2. BFV context generation\")\nprint(f\"\\t{HE}\")"
      ]
    },
    {
      "cell_type": "markdown",
      "metadata": {},
      "source": [
        "## A3. BFV Encryption\n\n"
      ]
    },
    {
      "cell_type": "code",
      "execution_count": null,
      "metadata": {
        "collapsed": false
      },
      "outputs": [],
      "source": [
        "# Encrypt each vector into one (if l <= n_slots) or several ciphertexts (l>n)\nc1 = [HE.encrypt(v1[j:j+HE.get_nSlots()]) for j in range(0,l,HE.get_nSlots())]\nc2 = [HE.encrypt(v2[j:j+HE.get_nSlots()]) for j in range(0,l,HE.get_nSlots())]\n\nprint(\"\\nA3. Integer Encryption\")\nprint(\"->\\tv1= \", str(v1)[:40],'...]\\n\\t--> c1= ', c1)\nprint(\"->\\tv2= \", str(v2)[:40],'...]\\n\\t--> c2= ', c2)"
      ]
    },
    {
      "cell_type": "markdown",
      "metadata": {},
      "source": [
        "## A4. BFV Scalar Product Evaluation\nScalar product requires a multiplication and a cumulative sum of the products.\n\n"
      ]
    },
    {
      "cell_type": "code",
      "execution_count": null,
      "metadata": {
        "collapsed": false
      },
      "outputs": [],
      "source": [
        "# If l <= n_slots (one single ciphertext per vector), we can perform the scalar\n#  product in one step using the `@` operator (matmul).\nif len(c1)==len(c2)==1:\n    cRes = c1[0] @ c2[0]\n# Otherwise, we should first multiply (and relinearize), then add all ciphertexts,\n#  and finally perform the cumulative addition inside the final ciphertext\nelse:\n    cRes = sum([~(c1[i]*c2[i]) for i in range(len(c1))])\n    # Cumulative sum\n    cRes = HE.cumul_add(cRes)\n    \n\n\n# Lets decrypt and check the result!\nres = HE.decrypt(cRes)[0]\n\nprint(\"\\nA4. Scalar Product Evaluation\")\nprint(\"->\\tc1@c2= \", cRes)\nprint(\"->\\tHE.decrypt(c1@c2)= \", res)\nprint(\"->\\tExpected:   c1@c2= \", spRes)\nassert res == spRes, \"Incorrect result!\"\nprint(\"---------------------------------------\")"
      ]
    },
    {
      "cell_type": "markdown",
      "metadata": {},
      "source": [
        "---------------------------------------------------------------------------- #\nB) SCALAR PRODUCT WITH CKKS\n---------------------------------------------------------------------------- #\nLet's repeat the experiment in CKKS!\n\nIn this case we don't have a noise_level operation to check the current noise,\n but we can precisely control the maximum # of multiplications by setting qi.\n\n"
      ]
    },
    {
      "cell_type": "code",
      "execution_count": null,
      "metadata": {
        "collapsed": false
      },
      "outputs": [],
      "source": [
        "# B1. Vector Generation\n# ---------------------------\n# CKKS doesn't have the inherent scale limitations of integer-based BFV, so we\n#  can use floating-point vectors, and employ a `scale` of up to 60 bits to hold\n#  values of that size.\nimport numpy as np\nrng = np.random.default_rng(42)\n\n# We will define a pair of 1D integer vectors of size l.\n#  For the purpose of this demo, we can study two cases:\n#  #1: small l (l <= n).     --> encoding with trailing zeros\n#  #3: large l (l > n).      --> several ciphertexts per vector\n\n# @User: You can modify the case selection below\nCASE_SELECTOR = 1          # 1 or 2\n\ncase_params = {\n    1: {'l': 256},         # small l\n    2: {'l': 65536},       # large l\n}[CASE_SELECTOR]\nl = case_params['l']\n\n# Generate two vectors with l elements drawn from a normal distribution N(0,100)\nv1 = rng.normal(loc=0, scale=100, size=l)    # Not bounded!\nv2 = rng.normal(loc=0, scale=100, size=l)\nspRes = v1@v2\nprint(\"\\nB1. CKKS Vector generation\")\nprint(f\"\\tv1 = {str(v1)[:40]+'...'}\")\nprint(f\"\\tv2 = {str(v2)[:40]+'...'}\")\nprint(f\"\\tvRes = {spRes}\")"
      ]
    },
    {
      "cell_type": "markdown",
      "metadata": {},
      "source": [
        "## B2. CKKS Context setup\nParameter selection goes according to vector length only.\n\n"
      ]
    },
    {
      "cell_type": "code",
      "execution_count": null,
      "metadata": {
        "collapsed": false
      },
      "outputs": [],
      "source": [
        "from Pyfhel import Pyfhel\n\ndef get_CKKS_context_scalar_prod(\n    l: int, sec: int=128,\n    use_n_min: bool=True\n) ->Pyfhel:\n    \"\"\"\n    Returns the best context parameters to compute scalar product in CKKS scheme.\n\n    The important context parameters to set are:\n    - n: the polynomial modulus degree (= 2*n_slots)\n\n    *Optimal n*: Chosen among {2**12, 2**13, 2**14, 2**15}.\n        The bigger n, the more secure the scheme, but the slower the computations.\n        It might be faster to use n<l and have multiple ciphertexts pervector.\n    \n    Arguments:\n        l: vector length\n        v_max: max element value\n    \n    Returns:\n        Pyfhel: context to perform homomorphic encryption\n    \"\"\"\n    #> OPTIMAL n\n    n_min =  2**13\n    if use_n_min:           n = n_min    # use n_min regardless of l\n    elif 2*l < n_min:       n = n_min    # Smallest\n    elif 2*l > 2**15:       n = 2**15    # Largest\n    else:                   n = get_closest_power_of_two(2*l)\n\n    context_params = {\n        'scheme': 'CKKS',\n        'n': n,          # Poly modulus degree. BFV ptxt is a n//2 by 2 matrix.\n        'sec': sec,      # Security level.\n        'scale': 2**20, \n        'qi_sizes': [60, 20, 60],   # Max number of multiplications = 1\n    }\n    HE = Pyfhel(context_params)\n    return HE\n\n# Setup parameters for HE context\nHE = get_CKKS_context_scalar_prod(l, sec=128, use_n_min=True)\nHE.keyGen()\nHE.relinKeyGen()\nHE.rotateKeyGen()\n\nprint(\"\\nB2. CKKS context generation\")\nprint(f\"\\t{HE}\")"
      ]
    },
    {
      "cell_type": "markdown",
      "metadata": {},
      "source": [
        "## B3. ckks Encryption\n\n"
      ]
    },
    {
      "cell_type": "code",
      "execution_count": null,
      "metadata": {
        "collapsed": false
      },
      "outputs": [],
      "source": [
        "# Encrypt each vector into one (if l <= n_slots) or several ciphertexts (l>n)\nc1 = [HE.encrypt(v1[j:j+HE.get_nSlots()]) for j in range(0,l,HE.get_nSlots())]\nc2 = [HE.encrypt(v2[j:j+HE.get_nSlots()]) for j in range(0,l,HE.get_nSlots())]\n\nprint(\"\\nB3. CKKS Fixed-point Encoding & Encryption\")\nprint(\"->\\tv1= \", str(v1)[:40],'...]\\n\\t--> c1= ', c1)\nprint(\"->\\tv2= \", str(v2)[:40],'...]\\n\\t--> c2= ', c2)"
      ]
    },
    {
      "cell_type": "markdown",
      "metadata": {},
      "source": [
        "## B4. CKKS Scalar Product Evaluation\nWe perform the same ops as in the BFV case\n\n"
      ]
    },
    {
      "cell_type": "code",
      "execution_count": null,
      "metadata": {
        "collapsed": false
      },
      "outputs": [],
      "source": [
        "if len(c1)==len(c2)==1:\n    cRes = c1[0] @ c2[0]\nelse:\n    cRes = [~(c1[i]*c2[i]) for i in range(len(c1))]\n    for i in range(1,len(cRes)):\n        cRes[0] += cRes[i]\n    cRes = HE.cumul_add(cRes[0])\n\n\n# Lets decrypt and check the result!\nres = HE.decrypt(cRes)[0]\n\nprint(\"\\nB4. CKKS Scalar Product Evaluation\")\nprint(\"->\\tc1@c2= \", cRes)\nprint(\"->\\tHE.decrypt(c1@c2)= \", res)\nprint(\"->\\tCorrect result: \", spRes)\nassert np.allclose(res, spRes, rtol=1/1000), \"Incorrect result!\"\nprint(\"---------------------------------------\")"
      ]
    }
  ],
  "metadata": {
    "kernelspec": {
      "display_name": "Python 3",
      "language": "python",
      "name": "python3"
    },
    "language_info": {
      "codemirror_mode": {
        "name": "ipython",
        "version": 3
      },
      "file_extension": ".py",
      "mimetype": "text/x-python",
      "name": "python",
      "nbconvert_exporter": "python",
      "pygments_lexer": "ipython3",
      "version": "3.9.17"
    }
  },
  "nbformat": 4,
  "nbformat_minor": 0
}