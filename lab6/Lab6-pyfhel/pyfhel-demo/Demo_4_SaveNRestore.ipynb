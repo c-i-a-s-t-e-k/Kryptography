{
  "cells": [
    {
      "cell_type": "markdown",
      "metadata": {},
      "source": [
        "\n# Saving and Restoring\n\nThis demo creates and saves every kind of object managed by Pyfhel.\nSubsequently, these objects are loaded and verified.\n\nThere are three methods: files, byte-strings or pickling.\n"
      ]
    },
    {
      "cell_type": "code",
      "execution_count": null,
      "metadata": {
        "collapsed": false
      },
      "outputs": [],
      "source": [
        "import os\nimport numpy as np\nfrom Pyfhel import Pyfhel, PyPtxt, PyCtxt"
      ]
    },
    {
      "cell_type": "markdown",
      "metadata": {},
      "source": [
        "## 1. Create one of each serializable object in Pyfhel\nFirst we create a Pyfhel object with all types of keys\n\n"
      ]
    },
    {
      "cell_type": "code",
      "execution_count": null,
      "metadata": {
        "collapsed": false
      },
      "outputs": [],
      "source": [
        "HE = Pyfhel(context_params={'scheme':'bfv', 'n':2**14, 't_bits':32})\nHE.keyGen()\nHE.rotateKeyGen()\nHE.relinKeyGen()\n# Then we encrypt some data\nc = HE.encrypt(np.array([42]))\np = HE.encode(np.array([-1]))\n\nprint(\"1. Creating serializable objects\")\nprint(f\"  Pyfhel object HE: {HE}\")\nprint(f\"  PyCtxt c=HE.encrypt([42]): {c}\")\nprint(f\"  PyPtxt p=HE.encode([-1]): {p}\")"
      ]
    },
    {
      "cell_type": "markdown",
      "metadata": {},
      "source": [
        "## 2. Checking size of objects before serializing\n\n"
      ]
    },
    {
      "cell_type": "code",
      "execution_count": null,
      "metadata": {
        "collapsed": false
      },
      "outputs": [],
      "source": [
        "con_size, con_size_zstd   = HE.sizeof_context(),    HE.sizeof_context(compr_mode=\"zstd\")\npk_size,  pk_size_zstd    = HE.sizeof_public_key(), HE.sizeof_public_key(compr_mode=\"zstd\")\nsk_size,  sk_size_zstd    = HE.sizeof_secret_key(), HE.sizeof_secret_key(compr_mode=\"zstd\")\nrotk_size,rotk_size_zstd  = HE.sizeof_rotate_key(), HE.sizeof_rotate_key(compr_mode=\"zstd\")\nrlk_size, rlk_size_zstd   = HE.sizeof_relin_key(),  HE.sizeof_relin_key(compr_mode=\"zstd\")\nc_size,   c_size_zstd     = c.sizeof_ciphertext(),  c.sizeof_ciphertext(compr_mode=\"zstd\")\n# alternatively, for ciphertext sizes you can use sys.getsizeof(c)\n\nprint(\"2. Checking size of serializable objects (with and without compression)\")\nprint(f\"   - context:    [ \\\"zstd\\\"  --> {con_size_zstd} | No compression --> {con_size}]\")\nprint(f\"   - public_key: [ \\\"zstd\\\"  --> {pk_size_zstd} | No compression --> {pk_size}]\")\nprint(f\"   - secret_key: [ \\\"zstd\\\"  --> {sk_size_zstd} | No compression --> {sk_size}]\")\nprint(f\"   - relin_key:  [ \\\"zstd\\\"  --> {rotk_size_zstd} | No compression --> {rotk_size}]\")\nprint(f\"   - rotate_key: [ \\\"zstd\\\"  --> {rlk_size_zstd} | No compression --> {rlk_size}]\")\nprint(f\"   - c:          [ \\\"zstd\\\"  --> {c_size_zstd} | No compression --> {c_size}]\")"
      ]
    },
    {
      "cell_type": "markdown",
      "metadata": {},
      "source": [
        "## 3. Save & restore everything into/from files\nWe will be using a temporary directory for this\n\n"
      ]
    },
    {
      "cell_type": "code",
      "execution_count": null,
      "metadata": {
        "collapsed": false
      },
      "outputs": [],
      "source": [
        "import tempfile\ntmp_dir = tempfile.TemporaryDirectory()\ntmp_dir_name = tmp_dir.name\n\n# Now we save all objects into files\nHE.save_context(tmp_dir_name + \"/context\")\nHE.save_public_key(tmp_dir_name + \"/pub.key\")\nHE.save_secret_key(tmp_dir_name + \"/sec.key\")\nHE.save_relin_key(tmp_dir_name + \"/relin.key\")\nHE.save_rotate_key(tmp_dir_name + \"/rotate.key\")\nc.save(tmp_dir_name + \"/c.ctxt\")\np.save(tmp_dir_name + \"/p.ptxt\")\n\nprint(\"2a. Saving everything into files. Let's check the temporary dir:\")\nprint(\"\\n\\t\".join(os.listdir(tmp_dir_name)))\n\n# Now we restore everything and quickly check if it works. \n#  Note! make sure to set the `pyfhel` parameter in PyCtxt/PyPtxt creation!\nHE_f = Pyfhel() # Empty creation\nHE_f.load_context(tmp_dir_name + \"/context\")\nHE_f.load_public_key(tmp_dir_name + \"/pub.key\")\nHE_f.load_secret_key(tmp_dir_name + \"/sec.key\")\nHE_f.load_relin_key(tmp_dir_name + \"/relin.key\")\nHE_f.load_rotate_key(tmp_dir_name + \"/rotate.key\")\nc_f = PyCtxt(pyfhel=HE_f, fileName=tmp_dir_name + \"/c.ctxt\")\np_f = PyPtxt(pyfhel=HE_f, fileName=tmp_dir_name + \"/p.ptxt\", scheme='bfv')\n\nprint(\"2b. Loading everything from files into a new environment.\")\n# Some checks\nassert HE_f.decryptInt(HE_f.encrypt(np.array([42])))[0]==42, \"Incorrect encryption\"\nassert HE_f.decryptInt(c_f)[0]==42, \"Incorrect decryption/ciphertext\"\nassert HE_f.decodeInt(p_f)[0]==-1, \"Incorrect decoding\"\nassert HE_f.decryptInt(c_f >> 1)[1]==42, \"Incorrect Rotation\"\nc_relin = c_f**2\n~c_relin\nassert c_relin.size()==2, \"Incorrect relinearization\"\nprint(\" All checks passed! Loaded from files correctly\")\n# Cleaning up temporary directory\ntmp_dir.cleanup()"
      ]
    },
    {
      "cell_type": "markdown",
      "metadata": {},
      "source": [
        "## 4. Save everything into byte-strings\nNow we save all objects into bytestrings\n This is useful to send objects over the network as payload (See Client/Server demo)\n\n"
      ]
    },
    {
      "cell_type": "code",
      "execution_count": null,
      "metadata": {
        "collapsed": false
      },
      "outputs": [],
      "source": [
        "s_context   = HE.to_bytes_context()\ns_public_key= HE.to_bytes_public_key()\ns_secret_key= HE.to_bytes_secret_key()\ns_relin_key = HE.to_bytes_relin_key()\ns_rotate_key= HE.to_bytes_rotate_key()\ns_c         = c.to_bytes()\ns_p         = p.to_bytes()\n\nprint(\"4a. Save all objects into byte-strings\")\nprint(f\"   - s_context: {s_context[:10]}...\")\nprint(f\"   - s_public_key: {s_public_key[:10]}...\")\nprint(f\"   - s_secret_key: {s_secret_key[:10]}...\")\nprint(f\"   - s_relin_key: {s_relin_key[:10]}...\")\nprint(f\"   - s_rotate_key: {s_rotate_key[:10]}...\")\nprint(f\"   - s_c: {s_c[:10]}...\")\nprint(f\"   - s_p: {s_p[:10]}...\")\n\n\n# Now we load everything and quickly check if it works. \nHE_b = Pyfhel()                 # Empty creation\nHE_b.from_bytes_context(s_context)\nHE_b.from_bytes_public_key(s_public_key)\nHE_b.from_bytes_secret_key(s_secret_key)\nHE_b.from_bytes_relin_key(s_relin_key)\nHE_b.from_bytes_rotate_key(s_rotate_key)\nc_b = PyCtxt(pyfhel=HE_b, bytestring=s_c)\np_b = PyPtxt(pyfhel=HE_b, bytestring=s_p)\n    \n\nprint(\"4b. Loading everything from bytestrings.\")\n# Some checks\nassert HE_b.decryptInt(HE_b.encryptInt(np.array([42], dtype=np.int64)))[0]==42, \"Incorrect encryption\"\nassert HE_b.decryptInt(c_b)[0]==42, \"Incorrect decryption/ciphertext\"\nassert HE_b.decodeInt(p_b)[0]==-1, \"Incorrect decoding\"\nassert HE_b.decryptInt(c_b >> 1)[1]==42, \"Incorrect Rotation\"\nc_relin = c_b**2\n~c_relin\nassert c_relin.size()==2, \"Incorrect relinearization\"\nprint(\"  All checks passed! Loaded from bytestrings correctly\")"
      ]
    },
    {
      "cell_type": "markdown",
      "metadata": {},
      "source": [
        "## 5. Pickling Python objects\nA last alternative is to pickle the python objects and then unpickle them.\n > WARNING! when pickling a Pyfhel object only the context is picked inside <\n               (To avoid accidental sharing of the secret key)\n\n   To share keys, use one of the two methods above (files, bytestrings)\n\n"
      ]
    },
    {
      "cell_type": "code",
      "execution_count": null,
      "metadata": {
        "collapsed": false
      },
      "outputs": [],
      "source": [
        "import pickle\npkls_pyfhel = pickle.dumps(HE)   # pickle.dump(HE, file) to dump in a file\npkls_ctxt   = pickle.dumps(c)\n\nprint(\"5a. Pickling Pyfhel & PyCtxt objects.\")\nprint(f\"  - pkls_pyfhel: {pkls_pyfhel[:10]}...\")\nprint(f\"  - pkls_ctxt: {pkls_ctxt[:10]}...\")\n\n# To load the objects, just call `pickle.loads`\nHE_pkl = pickle.loads(pkls_pyfhel) # pickle.load(file) to load from file\nc_pkl = pickle.loads(pkls_ctxt)\nprint(\"5b. Loaded pickled objects\")\nprint(f\"   - HE_pkl: {HE_pkl}\")\nprint(f\"   - c_pkl: {c_pkl}\")"
      ]
    }
  ],
  "metadata": {
    "kernelspec": {
      "display_name": "Python 3",
      "language": "python",
      "name": "python3"
    },
    "language_info": {
      "codemirror_mode": {
        "name": "ipython",
        "version": 3
      },
      "file_extension": ".py",
      "mimetype": "text/x-python",
      "name": "python",
      "nbconvert_exporter": "python",
      "pygments_lexer": "ipython3",
      "version": "3.9.17"
    }
  },
  "nbformat": 4,
  "nbformat_minor": 0
}