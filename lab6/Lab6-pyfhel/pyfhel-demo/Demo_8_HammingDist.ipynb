{
 "cells": [
  {
   "cell_type": "markdown",
   "metadata": {},
   "source": [
    "\n",
    "# Hamming Distance.\n",
    "\n",
    "This demo shows how to compute the Hamming Distance between two vectors {0,1}*.\n",
    "\n",
    "We will translate the hamming distance into a scalar product by translating the\n",
    "XOR op. to the arithmetic domain:\n",
    "\n",
    "    xor(x,y) = (x-y)^2 =  x + y - 2*(x*y)\n",
    "    HD(x,y) = sum (x[i] xor y[i]) = sum(x[i]) + sum(y[i]) - 2*sum(x[i]*y[i])\n",
    "\n",
    "To do so, we will encode both the vectors and their elementwise squared \n",
    "cumul_add in independent vectors, compute the scalar product and add the\n",
    "remaining terms.\n",
    "\n",
    "As in the scalar product, we encode each vector into one (if l <= n_slots) or \n",
    "several ciphertexts (l>n), then compute the SIMD multiplication and cumulative \n",
    "sum (via rotations and sums), to finally add the extra terms and decrypt.\n",
    "\n",
    "We perform this operation in BFV to get the exact result. CKKS could also be\n",
    "used, but the result would be an approximation.\n"
   ]
  },
  {
   "cell_type": "code",
   "execution_count": null,
   "metadata": {},
   "outputs": [],
   "source": [
    "#  %%\n",
    "# ---------------------------------------------------------------------------- #\n",
    "# HAMMING DISTANCE WITH BFV\n",
    "# ---------------------------------------------------------------------------- #"
   ]
  },
  {
   "cell_type": "markdown",
   "metadata": {},
   "source": [
    "## 1. Vector Generation\n",
    "We will define a pair of 1D integer vectors of size l in {0,1}*.\n",
    " For the purpose of this demo, we will focus on the case #1 of ScalarProd:\n",
    " #1: small l (l <= n) and high v_max.    --> encoding with trailing zeros\n",
    "\n",
    "Users can modify l.\n",
    "\n"
   ]
  },
  {
   "cell_type": "code",
   "execution_count": 1,
   "metadata": {},
   "outputs": [
    {
     "name": "stdout",
     "output_type": "stream",
     "text": [
      "\n",
      "A1. Vector generation\n",
      "\tv1 = [0 1 1 0 0 1 0 1 0 0 1 1 1 1 1 1 1 0 1 0...\n",
      "\tv2 = [1 0 0 1 1 0 0 1 1 1 0 0 1 1 0 0 0 1 0 0...\n",
      "\tvRes = 132\n"
     ]
    }
   ],
   "source": [
    "import warnings\n",
    "import numpy as np\n",
    "rng = np.random.default_rng(42)\n",
    "\n",
    "l = 256\n",
    "\n",
    "# Generate two random vectors with l elements of values <= |v_max|\n",
    "v1 = rng.integers(0, 2, size=l) \n",
    "v2 = rng.integers(0, 2, size=l)\n",
    "hdRes = np.sum(v1^v2)\n",
    "print(\"\\nA1. Vector generation\")\n",
    "print(f\"\\tv1 = {str(v1)[:40]+'...'}\")\n",
    "print(f\"\\tv2 = {str(v2)[:40]+'...'}\")\n",
    "print(f\"\\tvRes = {hdRes}\")"
   ]
  },
  {
   "cell_type": "markdown",
   "metadata": {},
   "source": [
    "## 2. Hamming Distance setup\n",
    "Parameter selection goes according to vector length and max element size.\n",
    "\n"
   ]
  },
  {
   "cell_type": "code",
   "execution_count": 2,
   "metadata": {},
   "outputs": [
    {
     "name": "stdout",
     "output_type": "stream",
     "text": [
      "\n",
      "2. BFV context generation\n",
      "\t<bfv Pyfhel obj at 0x7f5bb7bfd930, [pk:Y, sk:Y, rtk:Y, rlk:Y, contx(n=4096, t=114689, sec=128, qi=[], scale=1.0, )]>\n"
     ]
    }
   ],
   "source": [
    "from Pyfhel import Pyfhel\n",
    "\n",
    "# utilities to generate context parameters \n",
    "bitsize                  = lambda x: np.ceil(np.log2(x))\n",
    "get_closest_power_of_two = lambda x: int(2**(bitsize(x)))\n",
    "\n",
    "def get_BFV_context_hammingDist(\n",
    "    l: int, sec: int=128,\n",
    "    use_n_min: bool=True\n",
    ") ->Pyfhel:\n",
    "    \"\"\"\n",
    "    Returns the best context parameters to compute hamming dist. in BFV scheme.\n",
    "\n",
    "    The important context parameters to set are:\n",
    "    - n: the polynomial modulus degree (= n_slots)\n",
    "    - t: the plaintext modulus         (plaintext element size)\n",
    "\n",
    "    *Optimal n*: Chosen among {2**12, 2**13, 2**14, 2**15}. The min value is:\n",
    "        - n = 2**12 if sec in {128, 192}\n",
    "        - n = 2**13 if sec = 256\n",
    "        The bigger n, the more secure the scheme, but the slower the \n",
    "        computations. (it might be worth using n<l and have multiple \n",
    "        ciphertexts per vector)\n",
    "\n",
    "        NOTE: the context params are read from seal/utils/globals.cpp, in \n",
    "        accordance with homomorphicencryption.org standard to get the chosen \n",
    "        security level.\n",
    "\n",
    "    *Optimal t*: Choose the smallest t (smaller t yields better performance), \n",
    "        while being big enough to hold the result of the entire operation:\n",
    "        --> t_bits =    2 * bitsize(l)\n",
    "                        ^           ^\n",
    "                    square  |  cumul. sum\n",
    "        There is, however, a minimal size on t_bits for a given `n`:\n",
    "               t_bits_min = 14     if   n <= 2**11\n",
    "               t_bits_min = 16     if   n <= 2**12\n",
    "               t_bits_min = 17     otherwise\n",
    "    \n",
    "    Arguments:\n",
    "        l: vector length\n",
    "    \n",
    "    Returns:\n",
    "        Pyfhel: context to perform homomorphic encryption\n",
    "    \"\"\"\n",
    "    #> OPTIMAL t --> minimum for chosen `n`, or big enough to hold v1@v2\n",
    "    t_bits_min = 17\n",
    "    t_bits = max(t_bits_min, 2*bitsize(l))\n",
    "    if t_bits > 60:\n",
    "        raise ValueError(f\"t_bits = {t_bits} > 60.\")\n",
    "\n",
    "    #> OPTIMAL n\n",
    "    n_min = 2**12 if sec in [128, 192] else 2**13\n",
    "    if use_n_min:           n = n_min    # use n_min regardless of l\n",
    "    elif 2*l < n_min:       n = n_min    # Smallest\n",
    "    elif 2*l > 2**15:       n = 2**15    # Largest\n",
    "    else:                   n = get_closest_power_of_two(2*l)\n",
    "\n",
    "    context_params = {\n",
    "        'scheme': 'BFV',\n",
    "        'n': n,          # Poly modulus degree. BFV ptxt is a n//2 by 2 matrix.\n",
    "        't_bits': t_bits,# Plaintext modulus.\n",
    "        'sec': sec,      # Security level.\n",
    "    }\n",
    "\n",
    "    # Increasing `n` to get enough noise budget for the c1*c2 multiplication.\n",
    "    #  Since the noise budget in a multiplication consumes t_bits (+...) noise\n",
    "    #  budget and we start with `total_coeff_modulus_bit_count-t_bits` budget, #  we check if this is high enough to decrypt correctly.\n",
    "    HE = Pyfhel()\n",
    "    total_coeff_modulus_bit_count = 0\n",
    "    while total_coeff_modulus_bit_count - 2*t_bits <= 0:\n",
    "        context_status = HE.contextGen(**context_params)\n",
    "        total_coeff_modulus_bit_count = HE.total_coeff_modulus_bit_count\n",
    "        # if (context_status != \"success\"):\n",
    "        #     warnings.warn(f\"  n={context_params['n']} Doesn't produce valid parameters. Trying 2*n\")\n",
    "        context_params['n'] *= 2\n",
    "        if context_params['n'] > 2**15:\n",
    "            raise ValueError(f\"n = {context_params['n']} > 2**15. Parameters are not valid.\")\n",
    "    return HE\n",
    "\n",
    "# Setup parameters for HE context\n",
    "HE = get_BFV_context_hammingDist(l, sec=128, use_n_min=True)\n",
    "HE.keyGen()\n",
    "HE.relinKeyGen()\n",
    "HE.rotateKeyGen()\n",
    "\n",
    "print(\"\\n2. BFV context generation\")\n",
    "print(f\"\\t{HE}\")"
   ]
  },
  {
   "cell_type": "markdown",
   "metadata": {},
   "source": [
    "## 3. BFV Encryption\n",
    "\n"
   ]
  },
  {
   "cell_type": "code",
   "execution_count": 3,
   "metadata": {},
   "outputs": [
    {
     "name": "stdout",
     "output_type": "stream",
     "text": [
      "\n",
      "3. Boolean Encryption as integers\n",
      "->\tv1=  [0 1 1 0 0 1 0 1 0 0 1 1 1 1 1 1 1 0 1 0 ...]\n",
      "\t--> c1=  [<Pyfhel Ciphertext at 0x7f5b9d9d3c90, scheme=bfv, size=2/2, noiseBudget=48>]\n",
      "->\tv2=  [1 0 0 1 1 0 0 1 1 1 0 0 1 1 0 0 0 1 0 0 ...]\n",
      "\t--> c2=  [<Pyfhel Ciphertext at 0x7f5b9d9d3dd0, scheme=bfv, size=2/2, noiseBudget=48>]\n",
      "->\tsumx=  [126] \n",
      "\t--> c1_sumx=  <Pyfhel Ciphertext at 0x7f5b9d9d3f60, scheme=bfv, size=2/2, noiseBudget=48>\n",
      "->\tsumy=  [124] \n",
      "\t--> c2_sumy=  <Pyfhel Ciphertext at 0x7f5b9d9d3f10, scheme=bfv, size=2/2, noiseBudget=48>\n"
     ]
    }
   ],
   "source": [
    "# Encrypt each vector into one (if l <= n_slots) or several ciphertexts (l>n)\n",
    "c1 = [HE.encrypt(v1[j:j+HE.get_nSlots()]) for j in range(0,l,HE.get_nSlots())]\n",
    "c2 = [HE.encrypt(v2[j:j+HE.get_nSlots()]) for j in range(0,l,HE.get_nSlots())]\n",
    "\n",
    "sumx = np.expand_dims(np.sum(v1),0)\n",
    "sumy = np.expand_dims(np.sum(v2),0)\n",
    "c1_sumx = HE.encrypt(sumx)\n",
    "c2_sumy = HE.encrypt(sumy)\n",
    "\n",
    "print(\"\\n3. Boolean Encryption as integers\")\n",
    "print(\"->\\tv1= \", str(v1)[:40],'...]\\n\\t--> c1= ', c1)\n",
    "print(\"->\\tv2= \", str(v2)[:40],'...]\\n\\t--> c2= ', c2)\n",
    "print(\"->\\tsumx= \", str(sumx),'\\n\\t--> c1_sumx= ', c1_sumx)\n",
    "print(\"->\\tsumy= \", str(sumy),'\\n\\t--> c2_sumy= ', c2_sumy)"
   ]
  },
  {
   "cell_type": "markdown",
   "metadata": {},
   "source": [
    "## 4. BFV Hamming Distance Evaluation\n",
    "Evaluate the scalar product, then add the independent terms\n",
    "\n"
   ]
  },
  {
   "cell_type": "code",
   "execution_count": 4,
   "metadata": {},
   "outputs": [
    {
     "name": "stdout",
     "output_type": "stream",
     "text": [
      "\n",
      "4. Hamming Distance Evaluation\n",
      "->\tHamming(c1, c2)=  <Pyfhel Ciphertext at 0x7f5b9d9d3a10, scheme=bfv, size=2/2, noiseBudget=11>\n",
      "->\tHE.decrypt(c1@c2)=  132\n",
      "->\tExpected:   v1@v2=  132\n",
      "---------------------------------------\n"
     ]
    }
   ],
   "source": [
    "c_sp = HE.cumul_add(sum([~(c1[i]*c2[i]) for i in range(len(c1))]))\n",
    "    \n",
    "# Hamming Distance\n",
    "c_hd = c1_sumx + c2_sumy - (c_sp*2)\n",
    "\n",
    "# Lets decrypt and check the result!\n",
    "res = HE.decrypt(c_hd)[0]\n",
    "\n",
    "print(\"\\n4. Hamming Distance Evaluation\")\n",
    "print(\"->\\tHamming(c1, c2)= \", c_hd)\n",
    "print(\"->\\tHE.decrypt(c1@c2)= \", res)\n",
    "print(\"->\\tExpected:   v1@v2= \", hdRes)\n",
    "assert res == hdRes, \"Incorrect result!\"\n",
    "print(\"---------------------------------------\")"
   ]
  },
  {
   "cell_type": "code",
   "execution_count": null,
   "metadata": {},
   "outputs": [],
   "source": []
  }
 ],
 "metadata": {
  "kernelspec": {
   "display_name": "Python 3 (ipykernel)",
   "language": "python",
   "name": "python3"
  },
  "language_info": {
   "codemirror_mode": {
    "name": "ipython",
    "version": 3
   },
   "file_extension": ".py",
   "mimetype": "text/x-python",
   "name": "python",
   "nbconvert_exporter": "python",
   "pygments_lexer": "ipython3",
   "version": "3.11.6"
  }
 },
 "nbformat": 4,
 "nbformat_minor": 1
}
