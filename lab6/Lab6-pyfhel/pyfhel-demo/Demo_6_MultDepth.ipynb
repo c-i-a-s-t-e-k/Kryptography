{
  "cells": [
    {
      "cell_type": "markdown",
      "metadata": {},
      "source": [
        "\n# MultDepth and Relineraization\n\nThis demo focuses on managing ciphertext size and noise budget.\n\nEach ciphertext can be seen as (oversimplifying a bit) a polynomial with noise.\nWhen you perform encrypted multiplication, the size of the output polynomial grows\nbased on the size of the tho muliplicands, which increases its memory footprint\nand slows down operations. In order to keep ciphertext sizes low (min. 2), it\nis recommended to relinearize after each multiplication, effectively shrinking\nthe ciphertext back to minimum size.\n\nBesides this, the noise inside the ciphertext grows greatly when multiplying.\nEach ciphertext is given a noise budget when first encrypted, which decreases\nirreversibly for each multiplication. If the noise budget reaches zero, the\nresultin ciphertext cannot be decrypted correctly anymore.\n"
      ]
    },
    {
      "cell_type": "markdown",
      "metadata": {},
      "source": [
        "---------------------------------------------------------------------------- #\nA) BFV - MULTIPLICATIVE DEPTH WITH INTEGERS\n---------------------------------------------------------------------------- #\nA1. Context and key setup\n---------------------------\nFeel free to change these parameters!\n\n"
      ]
    },
    {
      "cell_type": "code",
      "execution_count": null,
      "metadata": {
        "collapsed": false
      },
      "outputs": [],
      "source": [
        "import numpy as np\nfrom Pyfhel import Pyfhel\nHE = Pyfhel(key_gen=True, context_params= {\n    'scheme': 'BFV',\n    'n': 2**13,         # num. of slots per plaintext. Higher n yields higher noise \n                        #  budget, but operations take longer.\n    't': 65537,         # Plaintext modulus (and bits). Higher t yields higher noise\n    't_bits': 20,       #  budget, but operations take longer.\n    'sec': 128,         # Security parameter.\n})\nHE.relinKeyGen()\n\nprint(\"\\nA1. BFV context generation\")\nprint(f\"\\t{HE}\")"
      ]
    },
    {
      "cell_type": "markdown",
      "metadata": {},
      "source": [
        "## 2. BFV Array Encoding & Encryption\nWe will define two 1D integer arrays, encode and encrypt them:\narr1 = [0, 1, ... n-1]\narr2 = [-t//2, -1, 1, 0, 0..., 0]  \n\n"
      ]
    },
    {
      "cell_type": "code",
      "execution_count": null,
      "metadata": {
        "collapsed": false
      },
      "outputs": [],
      "source": [
        "arr1 = np.arange(HE.n, dtype=np.int64)\narr2 = np.array([1, -1, 1], dtype=np.int64) \n\nctxt1 = HE.encryptInt(arr1)\nctxt2 = HE.encryptInt(arr2)\n\nprint(\"\\nA2. Integer Encryption\")\nprint(\"->\\tarr1 \", arr1,'\\n\\t==> ctxt1 ', ctxt1)\nprint(\"->\\tarr2 \", arr2,'\\n\\t==> ctxt2 ', ctxt2)"
      ]
    },
    {
      "cell_type": "markdown",
      "metadata": {},
      "source": [
        "## 3. BFV: Securely multiplying as much as we can\nYou can measure the noise level using HE.noise_level(ctxt).\nIMPORTANT! To get the noise Level you need the private key! otherwise the only\nway to know if above the noise is to decrypt the ciphertext and check the result.\n\n"
      ]
    },
    {
      "cell_type": "code",
      "execution_count": null,
      "metadata": {
        "collapsed": false
      },
      "outputs": [],
      "source": [
        "print(\"A3. Securely multiplying as much as we can\")\nstep = 0\nlvl = HE.noise_level(ctxt1)\nwhile lvl > 0:\n    print(f\"\\tStep {step}: noise_lvl {lvl}, res {HE.decryptInt(ctxt1)[:4]}\")\n    step += 1\n    ctxt1 *= ctxt2    # Multiply in-place\n    ctxt1 = ~(ctxt1)  # Always relinearize after each multiplication!\n    lvl = HE.noise_level(ctxt1)\nprint(f\"\\tFinal Step {step}: noise_lvl {lvl}, res {HE.decryptInt(ctxt1)[:4]}\")\nprint(\"---------------------------------------\")"
      ]
    },
    {
      "cell_type": "markdown",
      "metadata": {},
      "source": [
        "---------------------------------------------------------------------------- #\nB) CKKS - MULTIPLICATIVE DEPTH WITH FIXED-POINTS\n---------------------------------------------------------------------------- #\nIn this case we don't have a noise_level operation to check the current noise,\nsince the noise is considered as part of the encoding and adds up to a loss in\nprecision of the encoded values.\nHowever, we can precisely control the maximum # of multiplications by setting \nqi_sizes (or even manually selecting primes qi).\n\n## B1. Context and key setup\n\n"
      ]
    },
    {
      "cell_type": "code",
      "execution_count": null,
      "metadata": {
        "collapsed": false
      },
      "outputs": [],
      "source": [
        "import numpy as np\nfrom Pyfhel import Pyfhel\n\n# Feel free to change this number!\nn_mults = 8\n\nHE = Pyfhel(key_gen=True, context_params={\n    'scheme': 'CKKS',\n    'n': 2**14,         # For CKKS, n/2 values can be encoded in a single ciphertext. \n    'scale': 2**30,     # Each multiplication grows the final scale\n    'qi_sizes': [60]+ [30]*n_mults +[60] # Number of bits of each prime in the chain. \n                        # Intermediate prime sizes should be close to log2(scale).\n                        # One per multiplication! More/higher qi_sizes means bigger \n                        #  ciphertexts and slower ops.\n})\nHE.relinKeyGen()\nprint(\"\\nB1. CKKS context generation\")\nprint(f\"\\t{HE}\")"
      ]
    },
    {
      "cell_type": "markdown",
      "metadata": {},
      "source": [
        "## B2. CKKS Array Encoding & Encryption\n\n"
      ]
    },
    {
      "cell_type": "code",
      "execution_count": null,
      "metadata": {
        "collapsed": false
      },
      "outputs": [],
      "source": [
        "arr_x = np.array([1.1, 2.2, -3.3], dtype=np.float64) \narr_y = np.array([1, -1, 1], dtype=np.float64)\n\nctxt_x = HE.encryptFrac(arr_x)\nctxt_y = HE.encryptFrac(arr_y)\n\nprint(\"\\nB2. Fixed-point Encoding & Encryption, \")\nprint(\"->\\tarr_x \", arr_x,'\\n\\t==> ctxt_x ', ctxt_x)\nprint(\"->\\tarr_y \", arr_y,'\\n\\t==> ctxt_y ', ctxt_y)"
      ]
    },
    {
      "cell_type": "markdown",
      "metadata": {},
      "source": [
        "## B3. Multiply n_mult times!\nBesides rescaling, we also need to perform rescaling & mod switching. Luckily \nPyfhel does it for us by calling HE.align_mod_n_scale() before each operation.\n\n"
      ]
    },
    {
      "cell_type": "code",
      "execution_count": null,
      "metadata": {
        "collapsed": false
      },
      "outputs": [],
      "source": [
        "_r = lambda x: np.round(x, decimals=6)[:4]\nprint(f\"B3. Securely multiplying {n_mults} times!\")\nfor step in range(1,n_mults+1):\n    ctxt_x *= ctxt_y    # Multiply in-place --> implicit align_mod_n_scale()\n    ctxt_x = ~(ctxt_x)  # Always relinearize after each multiplication!\n    print(f\"\\tStep {step}:  res {_r(HE.decryptFrac(ctxt_x))}\")\ntry:\n    ctxt_x *= ctxt_y\nexcept ValueError as e:\n    assert str(e)=='scale out of bounds'\n    print(f\"If we multiply further we get: {str(e)}\")\nprint(\"---------------------------------------\")"
      ]
    }
  ],
  "metadata": {
    "kernelspec": {
      "display_name": "Python 3",
      "language": "python",
      "name": "python3"
    },
    "language_info": {
      "codemirror_mode": {
        "name": "ipython",
        "version": 3
      },
      "file_extension": ".py",
      "mimetype": "text/x-python",
      "name": "python",
      "nbconvert_exporter": "python",
      "pygments_lexer": "ipython3",
      "version": "3.9.17"
    }
  },
  "nbformat": 4,
  "nbformat_minor": 0
}