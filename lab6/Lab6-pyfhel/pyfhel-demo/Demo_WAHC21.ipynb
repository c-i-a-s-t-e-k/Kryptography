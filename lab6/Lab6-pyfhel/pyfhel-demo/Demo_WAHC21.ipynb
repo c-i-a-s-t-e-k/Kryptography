{
  "cells": [
    {
      "cell_type": "markdown",
      "metadata": {},
      "source": [
        "\n# WAHC21\n\nThis demo includes all the code snippets from the WAHC21 Pyfhel paper (corresponding sections in parenthesis).\n"
      ]
    },
    {
      "cell_type": "markdown",
      "metadata": {},
      "source": [
        "## 1. Setup and Parameters (Sec. 4.1)\nWe start by importing the library with the three main classes:\n* Pyfhel class contains most of the functions.\n* PyPtxt is the plaintext class\n* PyCtxt is the ciphertext class\n\nThen we generate a context a context and a public/secret key pair.\n -> This is all managed by a Pyfhel instance under the hood. \n\n"
      ]
    },
    {
      "cell_type": "code",
      "execution_count": null,
      "metadata": {
        "collapsed": false
      },
      "outputs": [],
      "source": [
        "from Pyfhel import Pyfhel, PyPtxt, PyCtxt\n\nHE = Pyfhel()           # Creating empty Pyfhel object\nHE.contextGen(scheme='BFV', n=4096, t_bits=20, sec=128)  # Generating context. The p defines the plaintext modulo.\n                        #  There are many configurable parameters on this step\n                        #  More info in Demo_ContextParameters, and\n                        #  in Pyfhel.contextGen()\nHE.keyGen()             # Key Generation: generates a pair of public/secret keys\nprint(\"-----------------------------------------------------\")\nprint(\"1. Setup: \", HE)"
      ]
    },
    {
      "cell_type": "markdown",
      "metadata": {},
      "source": [
        "## 2. Encryption & Decryption (Sec. 4.2)\nWe show how to encrypt and decrypt a plaintex, including encoding and decoding.\n\n"
      ]
    },
    {
      "cell_type": "code",
      "execution_count": null,
      "metadata": {
        "collapsed": false
      },
      "outputs": [],
      "source": [
        "integer = 45 \nint_ptxt = HE.encode(integer)   # PyPtxt [45, 45,...]\nint_ctxt = HE.encrypt(int_ptxt) # PyCtxt\n\nimport numpy as np\nnp_array = np.array([6, 5, 4, 3, 2, 1],dtype=np.int64)\narray_ptxt = HE.encode(np_array)    # Accepts list too\narray_ctxt = HE.encrypt(array_ptxt) # PyCtxt\n\n# Decrypt and Decode\nptxt_dec = HE.decrypt(int_ctxt, decode=False)   # PyPtxt\ninteger_dec = HE.decode(ptxt_dec) # integer\nprint(\"-----------------------------------------------------\")\nprint(\"2. Encryption & Decryption: \")\nprint(\"Encrypting integer: \", integer, \" -> \", int_ptxt , \" -> \", int_ctxt)\nprint(\"Decrypting integer: \", int_ctxt, \" -> \", ptxt_dec, \" -> \", integer_dec[:3],\"...\")"
      ]
    },
    {
      "cell_type": "markdown",
      "metadata": {},
      "source": [
        "## 3. Homomorphic Operations (Sec. 4.3)\nwe will define two integers, encrypt them and operate:\n\n"
      ]
    },
    {
      "cell_type": "code",
      "execution_count": null,
      "metadata": {
        "collapsed": false
      },
      "outputs": [],
      "source": [
        "ptxt_a = HE.encode(-12)\nptxt_b = HE.encode(34)\nctxt_a = HE.encrypt(56)\nctxt_b = HE.encrypt(-78)\n\n# ctxt-ctxt operations\nctxt_s = ctxt_a + ctxt_b # or ctxt_a += ctxt_b (in place)\nctxt_m = ctxt_a * ctxt_b\n\n# ctxt-ptxt operations\nctxt_s_p = ptxt_a + ctxt_b # or 12 + ctxt_b\nctxt_m_p = ctxt_a * ptxt_b # or ctxt_a * 34\n\n# maintenance operations\nHE.relinKeyGen()        # bfv only\nHE.relinearize(ctxt_s)  # requires relinKey\nHE.rotateKeyGen()\n# HE.rescale_to_next(ctxt_r) # ckks only\n\n# rotations (length n)\nctxt_c = HE.encrypt([1,2,3,4])\nctxt_rotated = ctxt_c << 1 # [2,3,4,0,...,0,1"
      ]
    },
    {
      "cell_type": "markdown",
      "metadata": {},
      "source": [
        "## 4. IO & Serialization (Sec. 4.4)\n\n"
      ]
    },
    {
      "cell_type": "code",
      "execution_count": null,
      "metadata": {
        "collapsed": false
      },
      "outputs": [],
      "source": [
        "import os # to cleanup files\n\n##### CLIENT\nHE = Pyfhel()\nHE.contextGen(scheme='BFV', n=4096, t_bits=0, t=65537, sec=128)\nHE.keyGen() # Generates public and private key\n# Save context and public key only\nHE.save_public_key(\"mypk.pk\")\nHE.save_context(\"mycontext.con\")\n# Encrypt and save inputs\nctxt_a = HE.encrypt(15) # implicit encoding\nctxt_b = HE.encrypt(25)\nctxt_a.save(\"ctxt_a.ctxt\")\nctxt_b.save(\"ctxt_b.ctxt\")\n\n##### SERVER\nHE_server = Pyfhel()    \nHE_server.load_context(\"mycontext.con\")\nHE_server.load_public_key(\"mypk.pk\") # no secret key\n# Load ciphertexts\nca = PyCtxt(pyfhel=HE_server, fileName=\"ctxt_a.ctxt\")\ncb = PyCtxt(pyfhel=HE_server, fileName=\"ctxt_b.ctxt\")\n# Compute homomorphically and send result\ncr = (ca + cb) * 2\ncr.save(\"cr.ctxt\")\n\n##### CLIENT \n# Load and decrypt result\nc_res = PyCtxt(pyfhel=HE, fileName=\"cr.ctxt\")\nprint(\"-----------------------------------------------------\")\nprint(\"Client_server result:\", c_res.decrypt())\nfor f in [\"mypk.pk\", \"mycontext.con\", \"ctxt_a.ctxt\", \"ctxt_b.ctxt\", \"cr.ctxt\"]:\n    os.remove(f)"
      ]
    },
    {
      "cell_type": "markdown",
      "metadata": {},
      "source": [
        "## 5. Exploring CKKS pitfalls (Sec. 5.1)\n\n"
      ]
    },
    {
      "cell_type": "code",
      "execution_count": null,
      "metadata": {
        "collapsed": false
      },
      "outputs": [],
      "source": [
        "print(\"-----------------------------------------------------\")\nfrom Pyfhel import PyCtxt, Pyfhel, PyPtxt\nHE = Pyfhel()\nHE.contextGen(scheme='CKKS', n=16384, qi_sizes=[30,30,30,30,30], scale=2 ** 30)\nHE.keyGen()\nctxt_x = HE.encrypt(3.1, scale=2 ** 30) # implicit encode\nctxt_y = HE.encrypt(4.1, scale=2 ** 30)\nctxt_z = HE.encrypt(5.9, scale=2 ** 30)\n\nctxtSum = HE.add(ctxt_x, ctxt_y)\nctxtProd = HE.multiply_plain(ctxt_z, HE.encode(5))\nctxt_t = HE.multiply(ctxtSum, ctxtProd)\n\nptxt_ten = HE.encode(10, scale=2 ** 30)\ntry:\n    ctxt_result = HE.add_plain(ctxt_t, ptxt_ten) #error: mismatched scales\nexcept ValueError as e:\n    assert str(e) == \"scale mismatch\"\n    print(\"CKKS: Mismatched scales detected!\")\n    \nptxt_d = HE.encode(10, 2 ** 30)\nctxt_d = HE.encrypt(ptxt_d)\nHE.rescale_to_next(ctxt_t)  # 2^90 -> 2^60\nHE.rescale_to_next(ctxt_t)  # 2^60 -> 2^30\n\nHE.mod_switch_to_next(ctxt_d) # match first rescale\nHE.mod_switch_to_next(ctxt_d) # match second rescale\n\nctxt_t.set_scale(2**30)\nctxt_result = HE.add(ctxt_t, ctxt_d) # final result\n\n# NOTE: The original code (substituting `HE.multiply` and  `HE.add`\n#  by `+` and `*`) no longer generates an error: scales are \n#  automatically aligned using HE.align_mod_n_scale when using \n#  operator overloads `+`, `-`, `*` and `/`."
      ]
    },
    {
      "cell_type": "markdown",
      "metadata": {},
      "source": [
        "## 6. Implementing Key-Recovery for CKKS (Sec. 5.2)\nSetup: Encrypt, Decrypt, Decode\n\n"
      ]
    },
    {
      "cell_type": "code",
      "execution_count": null,
      "metadata": {
        "collapsed": false
      },
      "outputs": [],
      "source": [
        "ctxt = HE.encrypt(0, scale=2**40)\nptxt_dec = HE.decryptPtxt(ctxt)\nvalues = HE.decodeComplex(ptxt_dec)\n\n# Attack\nptxt_re = HE.encode(values, scale=2**40)\na = HE.poly_from_ciphertext(ctxt,1) # PyPoly\nb = HE.poly_from_ciphertext(ctxt,0) # or b = ctxt[0]\nm = HE.poly_from_plaintext(ctxt, ptxt_re) # PyPoly\ns = (m - b) * ~a # ~a = inverse of a\nprint(\"-----------------------------------------------------\")"
      ]
    }
  ],
  "metadata": {
    "kernelspec": {
      "display_name": "Python 3",
      "language": "python",
      "name": "python3"
    },
    "language_info": {
      "codemirror_mode": {
        "name": "ipython",
        "version": 3
      },
      "file_extension": ".py",
      "mimetype": "text/x-python",
      "name": "python",
      "nbconvert_exporter": "python",
      "pygments_lexer": "ipython3",
      "version": "3.9.17"
    }
  },
  "nbformat": 4,
  "nbformat_minor": 0
}