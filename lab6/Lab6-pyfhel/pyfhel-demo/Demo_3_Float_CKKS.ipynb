{
 "cells": [
  {
   "cell_type": "markdown",
   "metadata": {},
   "source": [
    "\n",
    "# Fixed-point FHE with CKKS scheme\n",
    "\n",
    "Fixed-point Demo for Pyfhel, operating with fixed point encoded values following\n",
    "the CKKS scheme (https://eprint.iacr.org/2016/421.pdf)\n"
   ]
  },
  {
   "cell_type": "markdown",
   "metadata": {},
   "source": [
    "## 1. CKKS context and key setup\n",
    "We take a look at the different parameters that can be set for the CKKS scheme.\n",
    "A generally good strategy to choose `qi_sizes` (bitsize for each prime moduli) \n",
    "for the CKKS scheme is as follows:\n",
    "\n",
    "1. Choose a 60-bit prime as the first prime in coeff_modulus. This will\n",
    "   give the highest precision when decrypting;\n",
    "2. Choose another 60-bit prime as the last element of coeff_modulus, as\n",
    "   this will be used as the special prime and should be as large as the\n",
    "   largest of the other primes;\n",
    "3. Choose the intermediate primes to be close to each other.\n",
    "\n",
    "\n"
   ]
  },
  {
   "cell_type": "code",
   "execution_count": 2,
   "metadata": {},
   "outputs": [],
   "source": [
    "import numpy as np\n",
    "from Pyfhel import Pyfhel\n",
    "\n",
    "HE = Pyfhel()           # Creating empty Pyfhel object\n",
    "ckks_params = {\n",
    "    'scheme': 'CKKS',   # can also be 'ckks'\n",
    "    'n': 2**14,         # Polynomial modulus degree. For CKKS, n/2 values can be\n",
    "                        #  encoded in a single ciphertext. \n",
    "                        #  Typ. 2^D for D in [10, 15]\n",
    "    'scale': 2**30,     # All the encodings will use it for float->fixed point\n",
    "                        #  conversion: x_fix = round(x_float * scale)\n",
    "                        #  You can use this as default scale or use a different\n",
    "                        #  scale on each operation (set in HE.encryptFrac)\n",
    "    'qi_sizes': [60, 30, 30, 30, 60] # Number of bits of each prime in the chain. \n",
    "                        # Intermediate values should be  close to log2(scale)\n",
    "                        # for each operation, to have small rounding errors.\n",
    "}\n",
    "HE.contextGen(**ckks_params)  # Generate context for ckks scheme\n",
    "HE.keyGen()             # Key Generation: generates a pair of public/secret keys\n",
    "HE.rotateKeyGen()"
   ]
  },
  {
   "cell_type": "markdown",
   "metadata": {},
   "source": [
    "## 2. Float Array Encoding & Encryption\n",
    "we will define two floating-point arrays, encode and encrypt them:\n",
    "arr_x = [0.1, 0.2, -0.3] (length 3)\n",
    "arr_y = [-1.5, 2.3, 4.7] (length 3)\n",
    "\n"
   ]
  },
  {
   "cell_type": "code",
   "execution_count": 3,
   "metadata": {},
   "outputs": [
    {
     "name": "stdout",
     "output_type": "stream",
     "text": [
      "\n",
      "2. Fixed-point Encoding & Encryption, \n",
      "->\tarr_x  [ 0.1  0.2 -0.3] \n",
      "\t==> ptxt_x  <Pyfhel Plaintext at 0x7f3208dc3300, scheme=ckks, poly=?, is_ntt=Y, mod_level=0> \n",
      "\t==> ctxt_x  <Pyfhel Ciphertext at 0x7f3260868720, scheme=ckks, size=2/2, scale_bits=30, mod_level=0>\n",
      "->\tarr_y  [-1.5  2.3  4.7] \n",
      "\t==> ptxt_y  <Pyfhel Plaintext at 0x7f3208dd4c40, scheme=ckks, poly=?, is_ntt=Y, mod_level=0> \n",
      "\t==> ctxt_y  <Pyfhel Ciphertext at 0x7f3208db1b20, scheme=ckks, size=2/2, scale_bits=30, mod_level=0>\n"
     ]
    }
   ],
   "source": [
    "arr_x = np.array([0.1, 0.2, -0.3], dtype=np.float64)    # Always use type float64!\n",
    "arr_y = np.array([-1.5, 2.3, 4.7], dtype=np.float64)\n",
    "\n",
    "ptxt_x = HE.encodeFrac(arr_x)   # Creates a PyPtxt plaintext with the encoded arr_x\n",
    "ptxt_y = HE.encodeFrac(arr_y)   # plaintexts created from arrays shorter than 'n' are filled with zeros.\n",
    "\n",
    "ctxt_x = HE.encryptPtxt(ptxt_x) # Encrypts the plaintext ptxt_x and returns a PyCtxt\n",
    "ctxt_y = HE.encryptPtxt(ptxt_y) #  Alternatively you can use HE.encryptFrac(arr_y)\n",
    "\n",
    "# Otherwise, a single call to `HE.encrypt` would detect the data type,\n",
    "#  encode it and encrypt it\n",
    "#> ctxt_x = HE.encrypt(arr_x)\n",
    "\n",
    "print(\"\\n2. Fixed-point Encoding & Encryption, \")\n",
    "print(\"->\\tarr_x \", arr_x,'\\n\\t==> ptxt_x ', ptxt_x,'\\n\\t==> ctxt_x ', ctxt_x)\n",
    "print(\"->\\tarr_y \", arr_y,'\\n\\t==> ptxt_y ', ptxt_y,'\\n\\t==> ctxt_y ', ctxt_y)"
   ]
  },
  {
   "cell_type": "markdown",
   "metadata": {},
   "source": [
    "## 3. Securely operating on encrypted fixed-point arrays\n",
    "We try all the operations supported by Pyfhel.\n",
    "Note that, to operate, the ciphertexts/plaintexts must be built with the same\n",
    "context. Internal checks prevent ops between ciphertexts of different contexts.\n",
    "\n"
   ]
  },
  {
   "cell_type": "code",
   "execution_count": 4,
   "metadata": {},
   "outputs": [
    {
     "name": "stdout",
     "output_type": "stream",
     "text": [
      "3. Secure operations\n",
      " Ciphertext-ciphertext: \n",
      "->\tctxt_x + ctxt_y = ccSum:  <Pyfhel Ciphertext at 0x7f326080d530, scheme=ckks, size=2/2, scale_bits=30, mod_level=0>\n",
      "->\tctxt_x - ctxt_y = ccSub:  <Pyfhel Ciphertext at 0x7f326080c0e0, scheme=ckks, size=2/2, scale_bits=30, mod_level=0>\n",
      "->\tctxt_x * ctxt_y = ccMul:  <Pyfhel Ciphertext at 0x7f326080cd60, scheme=ckks, size=3/3, scale_bits=60, mod_level=1>\n",
      " Single ciphertext: \n",
      "->\tctxt_x**2      = cSq  :  <Pyfhel Ciphertext at 0x7f326080df30, scheme=ckks, size=3/3, scale_bits=60, mod_level=1>\n",
      "->\t- ctxt_x       = cNeg :  <Pyfhel Ciphertext at 0x7f326080df80, scheme=ckks, size=2/2, scale_bits=30, mod_level=0>\n",
      "->\tctxt_x >> 4    = cRotR:  <Pyfhel Ciphertext at 0x7f326080e700, scheme=ckks, size=2/2, scale_bits=30, mod_level=0>\n",
      "->\tctxt_x << 4    = cRotL:  <Pyfhel Ciphertext at 0x7f326080cb30, scheme=ckks, size=2/2, scale_bits=30, mod_level=0>\n",
      " Ciphertext-plaintext: \n",
      "->\tctxt_x + ptxt_y = cpSum:  <Pyfhel Ciphertext at 0x7f326080c130, scheme=ckks, size=2/2, scale_bits=30, mod_level=0>\n",
      "->\tctxt_x - ptxt_y = cpSub:  <Pyfhel Ciphertext at 0x7f326080d710, scheme=ckks, size=2/2, scale_bits=30, mod_level=0>\n",
      "->\tctxt_x * ptxt_y = cpMul:  <Pyfhel Ciphertext at 0x7f326080e930, scheme=ckks, size=2/2, scale_bits=60, mod_level=1>\n"
     ]
    }
   ],
   "source": [
    "# Ciphertext-ciphertext ops:\n",
    "ccSum = ctxt_x + ctxt_y       # Calls HE.add(ctxt_x, ctxt_y, in_new_ctxt=True)\n",
    "                            #  `ctxt_x += ctxt_y` for inplace operation\n",
    "ccSub = ctxt_x - ctxt_y       # Calls HE.sub(ctxt_x, ctxt_y, in_new_ctxt=True)\n",
    "                            #  `ctxt_x -= ctxt_y` for inplace operation\n",
    "ccMul = ctxt_x * ctxt_y       # Calls HE.multiply(ctxt_x, ctxt_y, in_new_ctxt=True)\n",
    "                            #  `ctxt_x *= ctxt_y` for inplace operation\n",
    "cSq   = ctxt_x**2            # Calls HE.square(ctxt_x, in_new_ctxt=True)\n",
    "                            #  `ctxt_x **= 2` for inplace operation\n",
    "cNeg  = -ctxt_x              # Calls HE.negate(ctxt_x, in_new_ctxt=True)\n",
    "                            # \n",
    "# cPow  = ctxt_x**3          # pow Not supported in CKKS\n",
    "cRotR = ctxt_x >> 2          # Calls HE.rotate(ctxt_x, k=2, in_new_ctxt=True)\n",
    "                            #  `ctxt_x >>= 2` for inplace operation\n",
    "cRotL = ctxt_x << 2          # Calls HE.rotate(ctxt_x, k=-2, in_new_ctxt=True)\n",
    "                            #  `ctxt_x <<= 2` for inplace operation\n",
    "\n",
    "# Ciphetext-plaintext ops\n",
    "cpSum = ctxt_x + ptxt_y       # Calls HE.add_plain(ctxt_x, ptxt_y, in_new_ctxt=True)\n",
    "                            # `ctxt_x += ctxt_y` for inplace operation\n",
    "cpSub = ctxt_x - ptxt_y       # Calls HE.sub_plain(ctxt_x, ptxt_y, in_new_ctxt=True)\n",
    "                            # `ctxt_x -= ctxt_y` for inplace operation\n",
    "cpMul = ctxt_x * ptxt_y       # Calls HE.multiply_plain(ctxt_x, ptxt_y, in_new_ctxt=True)\n",
    "                            # `ctxt_x *= ctxt_y` for inplace operation\n",
    "\n",
    "\n",
    "print(\"3. Secure operations\")\n",
    "print(\" Ciphertext-ciphertext: \")\n",
    "print(\"->\\tctxt_x + ctxt_y = ccSum: \", ccSum)\n",
    "print(\"->\\tctxt_x - ctxt_y = ccSub: \", ccSub)\n",
    "print(\"->\\tctxt_x * ctxt_y = ccMul: \", ccMul)\n",
    "print(\" Single ciphertext: \")\n",
    "print(\"->\\tctxt_x**2      = cSq  : \", cSq  )\n",
    "print(\"->\\t- ctxt_x       = cNeg : \", cNeg )\n",
    "print(\"->\\tctxt_x >> 4    = cRotR: \", cRotR)\n",
    "print(\"->\\tctxt_x << 4    = cRotL: \", cRotL)\n",
    "print(\" Ciphertext-plaintext: \")\n",
    "print(\"->\\tctxt_x + ptxt_y = cpSum: \", cpSum)\n",
    "print(\"->\\tctxt_x - ptxt_y = cpSub: \", cpSub)\n",
    "print(\"->\\tctxt_x * ptxt_y = cpMul: \", cpMul)"
   ]
  },
  {
   "cell_type": "markdown",
   "metadata": {},
   "source": [
    "## 4. CKKS relinearization: What, why, when\n",
    "Ciphertext-ciphertext multiplications increase the size of the polynoms \n",
    "representing the resulting ciphertext. To prevent this growth, the \n",
    "relinearization technique is used (typically right after each c-c mult) to \n",
    "reduce the size of a ciphertext back to the minimal size (two polynoms c0 & c1).\n",
    "For this, a special type of public key called Relinearization Key is used.\n",
    "\n",
    "In Pyfhel, you can either generate a relin key with HE.RelinKeyGen() or skip it\n",
    "and call HE.relinearize() directly, in which case a warning is issued.\n",
    "\n"
   ]
  },
  {
   "cell_type": "code",
   "execution_count": 5,
   "metadata": {},
   "outputs": [
    {
     "name": "stdout",
     "output_type": "stream",
     "text": [
      "\n",
      "4. Relinearization-> Right after each multiplication.\n",
      "ccMul before relinearization (size 3): <Pyfhel Ciphertext at 0x7f326080cd60, scheme=ckks, size=3/3, scale_bits=60, mod_level=1>\n",
      "ccMul after relinearization (size 2): <Pyfhel Ciphertext at 0x7f326080cd60, scheme=ckks, size=2/3, scale_bits=60, mod_level=1>\n"
     ]
    }
   ],
   "source": [
    "print(\"\\n4. Relinearization-> Right after each multiplication.\")\n",
    "print(f\"ccMul before relinearization (size {ccMul.size()}): {ccMul}\")\n",
    "HE.relinKeyGen()\n",
    "~ccMul    # Equivalent to HE.relinearize(ccMul). Relin always happens in-place.\n",
    "print(f\"ccMul after relinearization (size {ccMul.size()}): {ccMul}\")"
   ]
  },
  {
   "cell_type": "markdown",
   "metadata": {},
   "source": [
    "## 5. Rescaling & Mod Switching\n",
    "More complex operations with CKKS require keeping track of the CKKS scale. \n",
    "Operating with two CKKS ciphertexts (or a ciphertext and a plaintext) requires\n",
    "them to have the same scale and the same modulus level. \n",
    "\n",
    "-> Scale: Multiplications yield a new scale, which is the product of the scales\n",
    " of the two operands. To scale down a ciphertext, the HE.rescale_to_next(ctxt)\n",
    " function is used, which switches the modulus to the next one in the qi chain\n",
    " and divides the ciphertext by the previous modulus.#  Since this is the only\n",
    " scale-down operation, it is advised to use `scale_bits` with the same size as \n",
    " the intermediate moduli sizes in HE.qi_sizes. \n",
    "-> Mod Switching: Switches to the next modulus in the qi chain, but without\n",
    " rescaling. This is achieved by the HE.mod_switch_to_next(ctxt) function.\n",
    "\n",
    "To ease the life of the user, Pyfhel provides `HE.align_mod_n_scale(this, other)`,\n",
    "which automatically does the rescaling and mod switching. All the 2-input\n",
    "overloaded operators (+, -, \\*, /) of PyCtxt automatically call this function.\n",
    "The respective HE.add, HE.sub, HE.multiply don't.\n",
    "\n",
    "NOTE: For more information, check the SEAL example #4_ccks_basics.cpp\n",
    "\n",
    "In this example we will compute the mean squared error, treating the average of\n",
    "the two ciphertexts as the true distribution. We check the scale and mod-level\n",
    "step by step:\n",
    "\n"
   ]
  },
  {
   "cell_type": "code",
   "execution_count": 6,
   "metadata": {},
   "outputs": [
    {
     "name": "stdout",
     "output_type": "stream",
     "text": [
      "\n",
      "5. Rescaling & Mod Switching.\n",
      "->\tMean:  <Pyfhel Ciphertext at 0x7f326080e200, scheme=ckks, size=2/2, scale_bits=60, mod_level=1>\n",
      "->\tMSE_1:  <Pyfhel Ciphertext at 0x7f326082bec0, scheme=ckks, size=2/3, scale_bits=60, mod_level=2>\n",
      "->\tMSE_2:  <Pyfhel Ciphertext at 0x7f3260868d10, scheme=ckks, size=2/3, scale_bits=60, mod_level=2>\n",
      "->\tMSE:  <Pyfhel Ciphertext at 0x7f326080e5c0, scheme=ckks, size=2/3, scale_bits=60, mod_level=3>\n"
     ]
    }
   ],
   "source": [
    "#  1. Mean\n",
    "c_mean = (ctxt_x + ctxt_y) / 2\n",
    "#  2. MSE\n",
    "c_mse_1 = ~((ctxt_x - c_mean)**2)\n",
    "c_mse_2 = (~(ctxt_y - c_mean)**2)\n",
    "c_mse = (c_mse_1 + c_mse_2)/ 3\n",
    "#  3. Cumulative sum\n",
    "c_mse += (c_mse << 1)\n",
    "c_mse += (c_mse << 2)  # element 0 contains the result\n",
    "print(\"\\n5. Rescaling & Mod Switching.\")\n",
    "print(\"->\\tMean: \", c_mean)\n",
    "print(\"->\\tMSE_1: \", c_mse_1)\n",
    "print(\"->\\tMSE_2: \", c_mse_2)\n",
    "print(\"->\\tMSE: \", c_mse)"
   ]
  },
  {
   "cell_type": "markdown",
   "metadata": {},
   "source": [
    "## 6. Decrypt & Decode results\n",
    "Time to decrypt results! We use HE.decryptFrac for this. \n",
    " HE.decrypt() could also be used, in which case the decryption type would be\n",
    " inferred from the ciphertext metadata. \n",
    "\n"
   ]
  },
  {
   "cell_type": "code",
   "execution_count": 7,
   "metadata": {},
   "outputs": [
    {
     "name": "stdout",
     "output_type": "stream",
     "text": [
      "6. Decrypting results\n",
      " Original ciphertexts: \n",
      "   ->\tctxt_x --(decr)-->  [ 0.1  0.2 -0.3 ... -0.  -0.  -0. ]\n",
      "   ->\tctxt_y --(decr)-->  [-1.5  2.3  4.7 ... -0.   0.  -0. ]\n",
      " Ciphertext-ciphertext Ops: \n",
      "   ->\tctxt_x + ctxt_y = ccSum --(decr)-->  [-1.4  2.5  4.4 ... -0.  -0.  -0. ]\n",
      "   ->\tctxt_x - ctxt_y = ccSub --(decr)-->  [ 1.6 -2.1 -5.  ...  0.  -0.   0. ]\n",
      "   ->\tctxt_x * ctxt_y = ccMul --(decr)-->  [-0.15  0.46 -1.41 ...  0.   -0.    0.  ]\n",
      " Single ciphertext: \n",
      "   ->\tctxt_x**2      = cSq   --(decr)-->  [ 0.01  0.04  0.09 ...  0.   -0.    0.  ]\n",
      "   ->\t- ctxt_x       = cNeg  --(decr)-->  [-0.1 -0.2  0.3 ...  0.   0.   0. ]\n",
      "   ->\tctxt_x >> 4    = cRotR --(decr)-->  [-0.  -0.   0.1 ... -0.   0.   0. ]\n",
      "   ->\tctxt_x << 4    = cRotL --(decr)-->  [-0.298 -0.    -0.    ... -0.     0.1    0.2  ]\n",
      " Ciphertext-plaintext ops: \n",
      "   ->\tctxt_x + ptxt_y = cpSum --(decr)-->  [-1.4  2.5  4.4 ... -0.  -0.  -0. ]\n",
      "   ->\tctxt_x - ptxt_y = cpSub --(decr)-->  [ 1.6 -2.1 -5.  ... -0.  -0.  -0. ]\n",
      "   ->\tctxt_x * ptxt_y = cpMul --(decr)-->  [-0.15  0.46 -1.41 ...  0.    0.    0.  ]\n",
      " Mean Squared error: \n",
      "   ->\tmean(ctxt_x, ctxt_y) = c_mean --(decr)-->  [-0.7   1.25  2.2  ... -0.   -0.   -0.  ]\n",
      "   ->\tmse(ctxt_x, ctxt_y)  = c_mse  --(decr)-->  [5.33  4.903 4.168 ... 0.427 1.162 5.33 ]\n"
     ]
    }
   ],
   "source": [
    "r_x    = HE.decryptFrac(ctxt_x)\n",
    "r_y    = HE.decryptFrac(ctxt_y)\n",
    "rccSum = HE.decryptFrac(ccSum)\n",
    "rccSub = HE.decryptFrac(ccSub)\n",
    "rccMul = HE.decryptFrac(ccMul)\n",
    "rcSq   = HE.decryptFrac(cSq  )\n",
    "rcNeg  = HE.decryptFrac(cNeg )\n",
    "rcRotR = HE.decryptFrac(cRotR)\n",
    "rcRotL = HE.decryptFrac(cRotL)\n",
    "rcpSum = HE.decryptFrac(cpSum)\n",
    "rcpSub = HE.decryptFrac(cpSub)\n",
    "rcpMul = HE.decryptFrac(cpMul)\n",
    "rmean  = HE.decryptFrac(c_mean)\n",
    "rmse   = HE.decryptFrac(c_mse)\n",
    "\n",
    "# Note: results are approximate! if you increase the decimals, you will notice\n",
    "#  the errors\n",
    "_r = lambda x: np.round(x, decimals=3)\n",
    "print(\"6. Decrypting results\")\n",
    "print(\" Original ciphertexts: \")\n",
    "print(\"   ->\\tctxt_x --(decr)--> \", _r(r_x))\n",
    "print(\"   ->\\tctxt_y --(decr)--> \", _r(r_y))\n",
    "print(\" Ciphertext-ciphertext Ops: \")\n",
    "print(\"   ->\\tctxt_x + ctxt_y = ccSum --(decr)--> \", _r(rccSum))\n",
    "print(\"   ->\\tctxt_x - ctxt_y = ccSub --(decr)--> \", _r(rccSub))\n",
    "print(\"   ->\\tctxt_x * ctxt_y = ccMul --(decr)--> \", _r(rccMul))\n",
    "print(\" Single ciphertext: \")\n",
    "print(\"   ->\\tctxt_x**2      = cSq   --(decr)--> \", _r(rcSq  ))\n",
    "print(\"   ->\\t- ctxt_x       = cNeg  --(decr)--> \", _r(rcNeg ))\n",
    "print(\"   ->\\tctxt_x >> 4    = cRotR --(decr)--> \", _r(rcRotR))\n",
    "print(\"   ->\\tctxt_x << 4    = cRotL --(decr)--> \", _r(rcRotL))\n",
    "print(\" Ciphertext-plaintext ops: \")\n",
    "print(\"   ->\\tctxt_x + ptxt_y = cpSum --(decr)--> \", _r(rcpSum))\n",
    "print(\"   ->\\tctxt_x - ptxt_y = cpSub --(decr)--> \", _r(rcpSub))\n",
    "print(\"   ->\\tctxt_x * ptxt_y = cpMul --(decr)--> \", _r(rcpMul))\n",
    "print(\" Mean Squared error: \")\n",
    "print(\"   ->\\tmean(ctxt_x, ctxt_y) = c_mean --(decr)--> \", _r(rmean))\n",
    "print(\"   ->\\tmse(ctxt_x, ctxt_y)  = c_mse  --(decr)--> \", _r(rmse))"
   ]
  },
  {
   "cell_type": "code",
   "execution_count": null,
   "metadata": {},
   "outputs": [],
   "source": []
  }
 ],
 "metadata": {
  "kernelspec": {
   "display_name": "Python 3 (ipykernel)",
   "language": "python",
   "name": "python3"
  },
  "language_info": {
   "codemirror_mode": {
    "name": "ipython",
    "version": 3
   },
   "file_extension": ".py",
   "mimetype": "text/x-python",
   "name": "python",
   "nbconvert_exporter": "python",
   "pygments_lexer": "ipython3",
   "version": "3.11.6"
  }
 },
 "nbformat": 4,
 "nbformat_minor": 1
}
