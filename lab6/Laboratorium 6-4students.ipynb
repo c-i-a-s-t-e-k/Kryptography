{
 "cells": [
  {
   "cell_type": "markdown",
   "id": "676bcec6",
   "metadata": {},
   "source": [
    "# Szyfrowanie homomorficzne"
   ]
  },
  {
   "cell_type": "markdown",
   "id": "2230017e",
   "metadata": {},
   "source": [
    "### Zadanie 1\n",
    "Dany jest szyfrogram otrzymany w wyniku działania algorytmu RSA (Textbook RSA encryption) na tekście jawnym o wartości 4. Na podstawie tego szyfroghramu wygeneruj fałszywy szyfrogram, który po odszyfrowaniu będzie równy 44. "
   ]
  },
  {
   "cell_type": "code",
   "execution_count": 3,
   "id": "42e1ddf9",
   "metadata": {},
   "outputs": [
    {
     "name": "stdout",
     "output_type": "stream",
     "text": [
      "1. Generujemy liczby p i q\n",
      "3. Obliczamy wykładnik prywatny: odwrotność e modulo (p-1)(q-1c)\n",
      "Klucz publiczny: (1995740651, 65537)\n",
      "Klucz prywatny: (1995740651, 601158737)\n",
      "Generujemy klucze publiczny i prywatny: (1995740651, 65537) (1995740651, 601158737)\n",
      "350346157\n"
     ]
    },
    {
     "data": {
      "text/plain": [
       "4"
      ]
     },
     "execution_count": 3,
     "metadata": {},
     "output_type": "execute_result"
    }
   ],
   "source": [
    "import random, sys, os\n",
    "\n",
    "## Funkcje pomocnicze \n",
    "def gcd(a, b):\n",
    "    # GCD - Greatest Common Divisor, Największy wspólny dzielnik \n",
    "    while a != 0:\n",
    "        a, b = b % a, a   \n",
    "    return b\n",
    "\n",
    "def findModInverse(a, m):\n",
    "    # Zwraca liczbę x odwrotną do a ciele skończonym modulo m \n",
    "    # czyli (a*x) % m =1 \n",
    "\n",
    "    if gcd(a, m) != 1:\n",
    "        return None #a i m muszą być względnie pierwsze aby istniał element odwrotny \n",
    "\n",
    "    # Rozszerzony algorytm Euklidesa \n",
    "    u1, u2, u3 = 1, 0, a\n",
    "    v1, v2, v3 = 0, 1, m\n",
    "    while v3 != 0:   \n",
    "        q = u3 // v3 # // operator dzielenie całkowitoliczbowego \n",
    "        v1, v2, v3, u1, u2, u3 = (u1 - q * v1), (u2 - q * v2), (u3 - q * v3), v1, v2, v3\n",
    "    return u1 % m\n",
    "\n",
    "def generateKey(keySize):\n",
    "    print('1. Generujemy liczby p i q')\n",
    "    p=49109 \n",
    "    q=40639\n",
    "    e = 65537 \n",
    "    print('3. Obliczamy wykładnik prywatny: odwrotność e modulo (p-1)(q-1c)')\n",
    "    d=findModInverse(e, (p-1)*(q-1))\n",
    "    n= p*q\n",
    "    publicKey = (n, e)\n",
    "    privateKey = (n, d)\n",
    "    print('Klucz publiczny:', publicKey)\n",
    "    print('Klucz prywatny:', privateKey)\n",
    "    return (publicKey, privateKey)\n",
    "\n",
    "public, private = generateKey(16)\n",
    "  \n",
    "print('Generujemy klucze publiczny i prywatny:', public, private)\n",
    "\n",
    "def encrypt(data_number, modulus, exp):\n",
    "    data_encrypted = pow(data_number, exp, modulus)\n",
    "    return data_encrypted\n",
    "\n",
    "def decrypt(data_number, modulus, exp):\n",
    "    data_decrypted = pow(data_number, exp, modulus)\n",
    "    return data_decrypted\n",
    "\n"
   ]
  },
  {
   "cell_type": "code",
   "execution_count": 7,
   "metadata": {},
   "outputs": [
    {
     "name": "stdout",
     "output_type": "stream",
     "text": [
      "kryptogram: 350346157\n",
      "odokodowna wiadomość: 44\n"
     ]
    }
   ],
   "source": [
    "# A^b\n",
    "\n",
    "criptext1 = encrypt(4, public[0], public[1])\n",
    "print(\"kryptogram:\", criptext1)\n",
    "\n",
    "criptext2 = encrypt(11, public[0], public[1])\n",
    "\n",
    "criptext1 *= criptext2\n",
    "\n",
    "decrypt1 = decrypt(criptext1, private[0], private[1])\n",
    "\n",
    "print(\"odokodowna wiadomość:\", decrypt1)"
   ]
  },
  {
   "cell_type": "markdown",
   "id": "333ab3d7",
   "metadata": {},
   "source": [
    "## Kryptosystem Palliera\n",
    "\n"
   ]
  },
  {
   "cell_type": "code",
   "execution_count": 19,
   "id": "3a07bd7f",
   "metadata": {},
   "outputs": [
    {
     "name": "stdout",
     "output_type": "stream",
     "text": [
      "Defaulting to user installation because normal site-packages is not writeable\n",
      "Collecting phe\n",
      "  Downloading phe-1.5.0-py2.py3-none-any.whl (53 kB)\n",
      "\u001b[2K     \u001b[38;2;114;156;31m━━━━━━━━━━━━━━━━━━━━━━━━━━━━━━━━━━━━━━━\u001b[0m \u001b[32m53.7/53.7 KB\u001b[0m \u001b[31m703.6 kB/s\u001b[0m eta \u001b[36m0:00:00\u001b[0m1m945.7 kB/s\u001b[0m eta \u001b[36m0:00:01\u001b[0m\n",
      "\u001b[?25hInstalling collected packages: phe\n",
      "Successfully installed phe-1.5.0\n"
     ]
    }
   ],
   "source": [
    "!pip install phe"
   ]
  },
  {
   "cell_type": "markdown",
   "id": "180e7830",
   "metadata": {},
   "source": [
    "### Kryptosystem Pailliera\n",
    "\n",
    "Q 1999 roku Pascal Paillier zaproponował kryptosystem zbliżony konstrukcją do RSA (bezpieczeństwo oparte o faktoryzację liczb całkowitych), które posiada własność szyfrowania homomorficznego dla operacji:\n",
    "- dodawania\n",
    "- mnożenia szyfrogramu przez jawny numer\n",
    "\n",
    "\n",
    "#### Generowanie kluczy\n",
    "\n",
    "1. Wybierz losowo dwie duże liczby pierwsze $p$ i $q$ tak aby $gcd(pq, (p-1)(q-1)) = 1$. \n",
    "2. Oblicz $n = pq$\n",
    "3. Oblicz $\\lambda = lcm(p-1,q-1)$ ($lcm$ --- Least Common Multiple, Najmniejsza Wspólna Wielokrotność)\n",
    "4. Zdefiniuj funkcje $L(x) = \\frac{x-1}{n}$\n",
    "5. Wybierz losowo $g \\in Z^*_{n^2}$ (liczba całkowita w zakresie 1 do $n^2$)\n",
    "6. Oblicz odwrotność multiplikatywną $\\mu = L(g^\\lambda \\bmod n^2))^{-1} bmod n$. Jeśli $\\mu$ nie istnieje zacznij od nowa. \n",
    "\n",
    "Klucz publiczny ma postać: $pk = (n,g)$\n",
    "Klucz prywatny ma postać: $sk = \\lambda$ \n",
    "\n",
    "#### Szyfrowanie \n",
    "\n",
    "1. Tekstem jawnym jest liczba $m$ zakresu $0 \\le m < n$.\n",
    "\n",
    "2. Wybierz losową liczbę z zakresu $0 \\le r < n$.\n",
    "\n",
    "3. Oblicz szyfrogram $c= g^m \\cdot r^n \\bmod n^2$\n",
    "\n",
    "#### Deszyfrowanie\n",
    "\n",
    "1. Szyfrogram musi być liczbą z zakresu $0 < c < n^2$ \n",
    "2. Oblicz tekst jawny $m= L(c^\\lambda \\bmod n^2)\\cdot \\mu \\bmod n$\n",
    "\n",
    "### Homomorficzne własności schematu Pailliera\n",
    "\n",
    "1. Dodawanie dwóch liczb:\n",
    "$$D_{priv}(E_{pub}(m_1) \\cdot E_{pub}(m_2) \\bmod n^2)= m_1 + m_2 \\bmod n$$\n",
    "\n",
    "2. Mnożenie szyfrogramu przez liczbę:\n",
    "$$D_{priv}(E_{pub}(m_1)^{m_2} \\bmod n^2)= m_1 \\cdot m_2 \\bmod n$$"
   ]
  },
  {
   "cell_type": "code",
   "execution_count": 16,
   "id": "b3c9e83d",
   "metadata": {},
   "outputs": [
    {
     "name": "stdout",
     "output_type": "stream",
     "text": [
      "<PaillierPublicKey 1056396212> <PaillierPrivateKey for <PaillierPublicKey 1056396212>>\n",
      "<phe.paillier.EncryptedNumber object at 0x0000011255B99ED0> <phe.paillier.EncryptedNumber object at 0x0000011255CC7AD0>\n",
      "5 10\n",
      "[10, 25]\n"
     ]
    }
   ],
   "source": [
    "import phe  # https://pypi.org/project/phe/\n",
    "\n",
    "from phe import paillier\n",
    "import json\n",
    "pub_key, priv_key = paillier.generate_paillier_keypair()\n",
    "print(pub_key, priv_key)\n",
    "\n",
    "enc1 = pub_key.encrypt(5)\n",
    "enc2 = pub_key.encrypt(10)\n",
    "\n",
    "print(enc1, enc2)\n",
    "\n",
    "dec1 = priv_key.decrypt(enc1)\n",
    "dec2 = priv_key.decrypt(enc2)\n",
    "\n",
    "print(dec1, dec2)\n",
    "\n",
    "enc3 = pub_key.encrypt(5)\n",
    "dec3 = list()\n",
    "dec3.append(priv_key.decrypt(enc3 + enc3))\n",
    "dec3.append(priv_key.decrypt(enc3 * 5))\n",
    "# dec3.append( priv_key.decrypt(enc3 * enc3))\n",
    "# dec3.append(priv_key.decrypt(enc3 ** 5))\n",
    "# dec3.append(priv_key.decrypt(enc3 ** enc3))\n",
    "print(dec3)"
   ]
  },
  {
   "cell_type": "markdown",
   "id": "49ec252c",
   "metadata": {},
   "source": [
    "### Zadanie 2\n",
    "Sprawdź empirycznie działanie homomorficznego szyfrowania Pailliera. Dlaczego to działa? Wykaż poprawność dodawania i mnożenia przez liczbę.   "
   ]
  },
  {
   "cell_type": "code",
   "execution_count": null,
   "id": "f16848a2",
   "metadata": {},
   "outputs": [],
   "source": []
  }
 ],
 "metadata": {
  "kernelspec": {
   "display_name": "Python 3 (ipykernel)",
   "language": "python",
   "name": "python3"
  },
  "language_info": {
   "codemirror_mode": {
    "name": "ipython",
    "version": 3
   },
   "file_extension": ".py",
   "mimetype": "text/x-python",
   "name": "python",
   "nbconvert_exporter": "python",
   "pygments_lexer": "ipython3",
   "version": "3.11.7"
  }
 },
 "nbformat": 4,
 "nbformat_minor": 5
}
